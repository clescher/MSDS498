{
 "cells": [
  {
   "cell_type": "markdown",
   "metadata": {},
   "source": [
    "## All Model code development\n",
    "\n",
    "### Northwestern Banking\n",
    "\n",
    "#### Loan prediction project\n",
    "##### Updated 10-25-2020 Lescher"
   ]
  },
  {
   "cell_type": "code",
   "execution_count": 1,
   "metadata": {},
   "outputs": [],
   "source": [
    "#initiate libaray\n",
    "import matplotlib.pyplot as plt\n",
    "import numpy as np\n",
    "import pandas as pd\n",
    "import seaborn as sns\n",
    "import os\n",
    "import statsmodels.api as sms\n",
    "from sklearn.tree import DecisionTreeClassifier\n",
    "from sklearn.feature_selection import RFECV\n",
    "from scipy import stats\n",
    "from sklearn.model_selection import train_test_split\n",
    "from sklearn.linear_model import LogisticRegression\n",
    "from sklearn.linear_model import LinearRegression\n",
    "from sklearn import metrics\n",
    "from imblearn.over_sampling import SMOTE\n",
    "import pickle\n"
   ]
  },
  {
   "cell_type": "code",
   "execution_count": 2,
   "metadata": {},
   "outputs": [],
   "source": [
    "#desktop code\n",
    "datapath = os.path\n",
    "df = pd.read_csv(\"modelingdftrain.csv\",  sep=',')"
   ]
  },
  {
   "cell_type": "code",
   "execution_count": null,
   "metadata": {},
   "outputs": [],
   "source": []
  },
  {
   "cell_type": "markdown",
   "metadata": {},
   "source": [
    "### Declare all functions here"
   ]
  },
  {
   "cell_type": "markdown",
   "metadata": {},
   "source": [
    "#### error metrics and confusion matrix graphs"
   ]
  },
  {
   "cell_type": "code",
   "execution_count": 3,
   "metadata": {},
   "outputs": [],
   "source": [
    "#function to return accuracy measure & confusion matrix, \n",
    "#just enter in y predictions, title of model and the model object\n",
    "#since y_test values don't change\n",
    "def graph_metrics(y_pred, title, model):\n",
    "    #confusion matrix that's been normalized\n",
    "    fig = plt.figure( )\n",
    "    confusion_matrix = pd.crosstab(y_test, y_pred, rownames=['Actual'], colnames=['Predicted'],normalize=True)\n",
    "    sns.heatmap(confusion_matrix, annot=True)\n",
    "    plt.title(title)\n",
    "    plt.xticks(np.arange(0.5,2), ['Paid', 'Default'])\n",
    "    plt.yticks(np.arange(0.5,2), ['Paid', 'Default'])\n",
    "    plt.show()\n",
    "    fig.savefig(title + \" Con Mat\", bbox_inches='tight', dpi=250)\n",
    "\n",
    "    #roc\n",
    "    fig = plt.figure( )\n",
    "    y_pred_proba = model.predict_proba(X_test)[::,1]\n",
    "    fpr, tpr, _ = metrics.roc_curve(y_test,  y_pred_proba)\n",
    "    auc = metrics.roc_auc_score(y_test, y_pred_proba)\n",
    "    plt.plot(fpr,tpr,label=\"ROC, auc=\"+str(auc))\n",
    "    plt.legend(loc=4)\n",
    "    plt.title(title+ \" ROC\")\n",
    "    plt.show()\n",
    "    fig.savefig(title + \" ROC\", bbox_inches='tight', dpi=250)\n",
    "\n",
    "    #gives us Accuracy Rsquared, MAE, MSE, RMSE and more    \n",
    "    explained_variance=metrics.explained_variance_score(y_test, y_pred)\n",
    "    mean_absolute_error=metrics.mean_absolute_error(y_test, y_pred) \n",
    "    mse=metrics.mean_squared_error(y_test, y_pred) \n",
    "    mean_squared_log_error=metrics.mean_squared_log_error(y_test, y_pred)\n",
    "    r2=metrics.r2_score(y_test, y_pred)    \n",
    "    \n",
    "    tnc, tpc, fnc, fpc = cost_err(y_pred)\n",
    "    \n",
    "    return [title, metrics.accuracy_score(y_test, y_pred), round(explained_variance,4),\n",
    "                         round(mean_squared_log_error,4), round(r2,4), round(mean_absolute_error,4), \n",
    "                         round(mse,4), round(np.sqrt(mse),4), auc, \n",
    "                         confusion_matrix[0][0], confusion_matrix[1][1], confusion_matrix[0][1], confusion_matrix[1][0],\n",
    "                         tnc, tpc, fnc, fpc]"
   ]
  },
  {
   "cell_type": "markdown",
   "metadata": {},
   "source": [
    "#### function to define the cost related error for each model"
   ]
  },
  {
   "cell_type": "code",
   "execution_count": 4,
   "metadata": {},
   "outputs": [],
   "source": [
    "def cost_err(y_pred):\n",
    "    costdf = y_test1\n",
    "    costdf['pred_ind'] = y_pred\n",
    "    costdf['loan_amnt'] = X_test['loan_amnt_cuberoot']*X_test['loan_amnt_cuberoot']*X_test['loan_amnt_cuberoot']\n",
    "    \n",
    "    costdf['True_Neg_Cost'] = 0\n",
    "    costdf['True_Pos_Cost'] = 0\n",
    "    costdf['False_Neg_Cost'] = 0\n",
    "    costdf['False_Pos_Cost'] = 0\n",
    "    costdf.loc[(costdf['default_ind']==0) & (costdf['pred_ind']==0), 'True_Neg_Cost'] = costdf['loan_amnt']\n",
    "    costdf.loc[(costdf['default_ind']==1) & (costdf['pred_ind']==1), 'True_Pos_Cost'] = costdf['loan_amnt']\n",
    "    costdf.loc[(costdf['default_ind']==1) & (costdf['pred_ind']==0), 'False_Neg_Cost'] = costdf['loan_amnt']\n",
    "    costdf.loc[(costdf['default_ind']==0) & (costdf['pred_ind']==1), 'False_Pos_Cost'] = costdf['loan_amnt']\n",
    "    \n",
    "    \n",
    "    return [costdf['True_Neg_Cost'].sum(), costdf['True_Pos_Cost'].sum(), \n",
    "            costdf['False_Neg_Cost'].sum(), costdf['False_Pos_Cost'].sum()]"
   ]
  },
  {
   "cell_type": "markdown",
   "metadata": {},
   "source": [
    "#### function used to return the columns used in an RFE model"
   ]
  },
  {
   "cell_type": "code",
   "execution_count": 5,
   "metadata": {},
   "outputs": [],
   "source": [
    "def cols_used(model):\n",
    "    d = []\n",
    "    for i in range(X_train.shape[1]):\n",
    "        d.append(\n",
    "            {\n",
    "                'Feature': X_train.columns[i],\n",
    "                'Used': model.support_[i],\n",
    "                'Rank':  model.ranking_[i]\n",
    "                }\n",
    "            )\n",
    "    return pd.DataFrame(d)"
   ]
  },
  {
   "cell_type": "markdown",
   "metadata": {},
   "source": [
    "### data and results prep"
   ]
  },
  {
   "cell_type": "code",
   "execution_count": 6,
   "metadata": {},
   "outputs": [],
   "source": [
    "#this is our comparison dataframe to judge all models on\n",
    "#True Negative is when we accurately predict someone will pay off their loan\n",
    "#True Pos is when we accurately predict someone will default\n",
    "#False Neg is when we believe someone will pay off their loan but they don't\n",
    "#False Pos is when we believe someone will default but they don't\n",
    "resultcols = ['Model', 'Accuracy', 'explained_variance','mean_squared_log_error', 'r2', 'MAE', 'MSE', 'RMSE',\n",
    "              'AUC','True_Neg', 'True_Pos', 'False_Neg', 'False_Pos',\n",
    "              'True_Neg_Cost', 'True_Pos_Cost', 'False_Neg_Cost', 'False_Pos_Cost']\n",
    "resultsdf = pd.DataFrame(columns=resultcols)"
   ]
  },
  {
   "cell_type": "code",
   "execution_count": 7,
   "metadata": {},
   "outputs": [],
   "source": [
    "#this is the full modeling file once we fix the data issues\n",
    "X = df[['id','loan_amnt_cuberoot', 'term', 'int_rate_log', 'grade', \n",
    "              'emp_length2', 'home_ownership2', 'annual_inc_cuberoot', \n",
    "              'desc2', 'purpose', 'dti', 'delinq_2yrs', \n",
    "              'revol_util', 'initial_list_status2', 'application_type', \n",
    "              'tot_coll_amt', 'chargeoff_within_12_mths', 'pct_tl_nvr_dlq', 'pub_rec_bankruptcies', \n",
    "              'total_bal_ex_mort', 'delinq_amt_pct', \n",
    "              'sats_pct', 'max_fico_low','len_credit_cuberoot' ]]\n",
    "\n",
    "\n",
    "#target value\n",
    "y = df[['id','default_ind']]"
   ]
  },
  {
   "cell_type": "code",
   "execution_count": 8,
   "metadata": {},
   "outputs": [
    {
     "name": "stderr",
     "output_type": "stream",
     "text": [
      "<ipython-input-8-f6d1a6325523>:5: SettingWithCopyWarning: \n",
      "A value is trying to be set on a copy of a slice from a DataFrame.\n",
      "Try using .loc[row_indexer,col_indexer] = value instead\n",
      "\n",
      "See the caveats in the documentation: https://pandas.pydata.org/pandas-docs/stable/user_guide/indexing.html#returning-a-view-versus-a-copy\n",
      "  X[convertlist[c]] = X[convertlist[c]].astype('category')\n",
      "<ipython-input-8-f6d1a6325523>:6: SettingWithCopyWarning: \n",
      "A value is trying to be set on a copy of a slice from a DataFrame.\n",
      "Try using .loc[row_indexer,col_indexer] = value instead\n",
      "\n",
      "See the caveats in the documentation: https://pandas.pydata.org/pandas-docs/stable/user_guide/indexing.html#returning-a-view-versus-a-copy\n",
      "  X[convertlist[c]] = X[convertlist[c]].cat.codes\n"
     ]
    }
   ],
   "source": [
    "#process to convert variables to codes from categorical\n",
    "#might consider putting this into the data prep master\n",
    "convertlist = ['purpose', 'term', 'application_type', 'grade']\n",
    "for c in range(0,len(convertlist)):\n",
    "    X[convertlist[c]] = X[convertlist[c]].astype('category')\n",
    "    X[convertlist[c]] = X[convertlist[c]].cat.codes"
   ]
  },
  {
   "cell_type": "code",
   "execution_count": 9,
   "metadata": {},
   "outputs": [],
   "source": [
    "#split the data into test and train sets\n",
    "X_train1,X_test1,y_train1,y_test1 = train_test_split(X,y,test_size=0.25,random_state=13)\n",
    "\n",
    "X_train = X_train1.drop(['id'], axis=1)\n",
    "X_test = X_test1.drop(['id'], axis=1)\n",
    "y_train = y_train1.drop(['id'], axis=1)\n",
    "y_test = np.array(y_test1['default_ind'].to_list())"
   ]
  },
  {
   "cell_type": "markdown",
   "metadata": {},
   "source": [
    "#### SMOTE"
   ]
  },
  {
   "cell_type": "code",
   "execution_count": 10,
   "metadata": {},
   "outputs": [
    {
     "name": "stdout",
     "output_type": "stream",
     "text": [
      "Number of original no default 196417\n",
      "Number of original default 196417\n",
      "Proportion of original no default is  1.0\n",
      "Proportion of original default is  1.0\n",
      "length of oversampled data is  314492\n",
      "Number of no default 157246\n",
      "Number of default 157246\n",
      "Proportion of no default is  0.5\n",
      "Proportion of default is  0.5\n"
     ]
    }
   ],
   "source": [
    "sm = SMOTE(random_state=13)\n",
    "columns = X_train.columns\n",
    "X_train_SMOTE,y_train_SMOTE = sm.fit_resample(X_train, y_train)\n",
    "X_train_SMOTE = pd.DataFrame(data=X_train_SMOTE,columns=columns )\n",
    "y_train_SMOTE= pd.DataFrame(data=y_train_SMOTE,columns=['default_ind'])\n",
    "\n",
    "#show how smote works\n",
    "print(\"Number of original no default\",len(y_train[y_train==0]))\n",
    "print(\"Number of original default\",len(y_train[y_train==1]))\n",
    "print(\"Proportion of original no default is \",len(y_train[y_train==0])/len(X_train))\n",
    "print(\"Proportion of original default is \",len(y_train[y_train==1])/len(X_train))\n",
    "\n",
    "print(\"length of oversampled data is \",len(X_train_SMOTE))\n",
    "print(\"Number of no default\",len(y_train_SMOTE[y_train_SMOTE['default_ind']==0]))\n",
    "print(\"Number of default\",len(y_train_SMOTE[y_train_SMOTE['default_ind']==1]))\n",
    "print(\"Proportion of no default is \",len(y_train_SMOTE[y_train_SMOTE['default_ind']==0])/len(X_train_SMOTE))\n",
    "print(\"Proportion of default is \",len(y_train_SMOTE[y_train_SMOTE['default_ind']==1])/len(X_train_SMOTE))"
   ]
  },
  {
   "cell_type": "markdown",
   "metadata": {},
   "source": [
    "### Models"
   ]
  },
  {
   "cell_type": "markdown",
   "metadata": {},
   "source": [
    "#### Logistic Regression"
   ]
  },
  {
   "cell_type": "code",
   "execution_count": 11,
   "metadata": {},
   "outputs": [
    {
     "name": "stderr",
     "output_type": "stream",
     "text": [
      "C:\\Users\\clesc\\anaconda3\\lib\\site-packages\\sklearn\\utils\\validation.py:73: DataConversionWarning: A column-vector y was passed when a 1d array was expected. Please change the shape of y to (n_samples, ), for example using ravel().\n",
      "  return f(**kwargs)\n"
     ]
    },
    {
     "data": {
      "image/png": "[encoded data removed]",
      "text/plain": [
       "<Figure size 432x288 with 2 Axes>"
      ]
     },
     "metadata": {
      "needs_background": "light"
     },
     "output_type": "display_data"
    },
    {
     "data": {
      "image/png": "[encoded data removed]",
      "text/plain": [
       "<Figure size 432x288 with 1 Axes>"
      ]
     },
     "metadata": {
      "needs_background": "light"
     },
     "output_type": "display_data"
    },
    {
     "name": "stderr",
     "output_type": "stream",
     "text": [
      "<ipython-input-4-c11f19516e14>:3: SettingWithCopyWarning: \n",
      "A value is trying to be set on a copy of a slice from a DataFrame.\n",
      "Try using .loc[row_indexer,col_indexer] = value instead\n",
      "\n",
      "See the caveats in the documentation: https://pandas.pydata.org/pandas-docs/stable/user_guide/indexing.html#returning-a-view-versus-a-copy\n",
      "  costdf['pred_ind'] = y_pred\n",
      "<ipython-input-4-c11f19516e14>:4: SettingWithCopyWarning: \n",
      "A value is trying to be set on a copy of a slice from a DataFrame.\n",
      "Try using .loc[row_indexer,col_indexer] = value instead\n",
      "\n",
      "See the caveats in the documentation: https://pandas.pydata.org/pandas-docs/stable/user_guide/indexing.html#returning-a-view-versus-a-copy\n",
      "  costdf['loan_amnt'] = X_test['loan_amnt_cuberoot']*X_test['loan_amnt_cuberoot']*X_test['loan_amnt_cuberoot']\n",
      "<ipython-input-4-c11f19516e14>:6: SettingWithCopyWarning: \n",
      "A value is trying to be set on a copy of a slice from a DataFrame.\n",
      "Try using .loc[row_indexer,col_indexer] = value instead\n",
      "\n",
      "See the caveats in the documentation: https://pandas.pydata.org/pandas-docs/stable/user_guide/indexing.html#returning-a-view-versus-a-copy\n",
      "  costdf['True_Neg_Cost'] = 0\n",
      "<ipython-input-4-c11f19516e14>:7: SettingWithCopyWarning: \n",
      "A value is trying to be set on a copy of a slice from a DataFrame.\n",
      "Try using .loc[row_indexer,col_indexer] = value instead\n",
      "\n",
      "See the caveats in the documentation: https://pandas.pydata.org/pandas-docs/stable/user_guide/indexing.html#returning-a-view-versus-a-copy\n",
      "  costdf['True_Pos_Cost'] = 0\n",
      "<ipython-input-4-c11f19516e14>:8: SettingWithCopyWarning: \n",
      "A value is trying to be set on a copy of a slice from a DataFrame.\n",
      "Try using .loc[row_indexer,col_indexer] = value instead\n",
      "\n",
      "See the caveats in the documentation: https://pandas.pydata.org/pandas-docs/stable/user_guide/indexing.html#returning-a-view-versus-a-copy\n",
      "  costdf['False_Neg_Cost'] = 0\n",
      "<ipython-input-4-c11f19516e14>:9: SettingWithCopyWarning: \n",
      "A value is trying to be set on a copy of a slice from a DataFrame.\n",
      "Try using .loc[row_indexer,col_indexer] = value instead\n",
      "\n",
      "See the caveats in the documentation: https://pandas.pydata.org/pandas-docs/stable/user_guide/indexing.html#returning-a-view-versus-a-copy\n",
      "  costdf['False_Pos_Cost'] = 0\n",
      "C:\\Users\\clesc\\anaconda3\\lib\\site-packages\\pandas\\core\\indexing.py:966: SettingWithCopyWarning: \n",
      "A value is trying to be set on a copy of a slice from a DataFrame.\n",
      "Try using .loc[row_indexer,col_indexer] = value instead\n",
      "\n",
      "See the caveats in the documentation: https://pandas.pydata.org/pandas-docs/stable/user_guide/indexing.html#returning-a-view-versus-a-copy\n",
      "  self.obj[item] = s\n",
      "<ipython-input-11-b318c933f454>:12: SettingWithCopyWarning: \n",
      "A value is trying to be set on a copy of a slice from a DataFrame.\n",
      "Try using .loc[row_indexer,col_indexer] = value instead\n",
      "\n",
      "See the caveats in the documentation: https://pandas.pydata.org/pandas-docs/stable/user_guide/indexing.html#returning-a-view-versus-a-copy\n",
      "  y_test1['log'] = y_pred1\n"
     ]
    }
   ],
   "source": [
    "model1 = LogisticRegression(max_iter=10000)\n",
    "model1.fit(X_train,y_train)\n",
    "y_pred1=model1.predict(X_test)\n",
    "\n",
    "\n",
    "#reuse this line to append the results of your model to the results df \n",
    "#replace the following\n",
    "#y_pred1 -> results of your predictions\n",
    "#'Log reg' -> the title of the graphs and model type\n",
    "#model1 -> what the model is stored as\n",
    "resultsdf=resultsdf.append(pd.Series(graph_metrics(y_pred1,'Log Reg', model1), index= resultcols), ignore_index=True)\n",
    "y_test1['log'] = y_pred1"
   ]
  },
  {
   "cell_type": "markdown",
   "metadata": {},
   "source": [
    "#### Logistic Regression w/ SMOTE"
   ]
  },
  {
   "cell_type": "code",
   "execution_count": null,
   "metadata": {},
   "outputs": [],
   "source": [
    "#with  SMOTE\n",
    "model1_SMOTE = LogisticRegression(max_iter=10000)\n",
    "model1_SMOTE.fit(X_train_SMOTE,y_train_SMOTE)\n",
    "y_pred1_SMOTE=model1_SMOTE.predict(X_test)\n",
    "\n",
    "resultsdf=resultsdf.append(pd.Series(graph_metrics(y_pred1_SMOTE,'Log Reg SMOTE', model1_SMOTE), index= resultcols), ignore_index=True)\n",
    "y_test1['log_smote'] = y_pred1_SMOTE"
   ]
  },
  {
   "cell_type": "markdown",
   "metadata": {},
   "source": [
    "#### Logistic Regression w/ RFE"
   ]
  },
  {
   "cell_type": "code",
   "execution_count": null,
   "metadata": {},
   "outputs": [],
   "source": [
    "#RFE\n",
    "model2 = LogisticRegression(max_iter=10000)\n",
    "rfe = RFECV(model2, n_jobs=10)\n",
    "rfe.fit(X_train,y_train)\n",
    "y_pred2=rfe.predict(X_test)\n",
    "\n",
    "resultsdf=resultsdf.append(pd.Series(graph_metrics(y_pred2,'Log Reg RFE', rfe), index= resultcols), ignore_index=True)\n",
    "y_test1['log_REF'] = y_pred2\n",
    "rfe_vars = cols_used(rfe)"
   ]
  },
  {
   "cell_type": "markdown",
   "metadata": {},
   "source": [
    "#### Logistic Regression w/ RFE & SMOTE"
   ]
  },
  {
   "cell_type": "code",
   "execution_count": null,
   "metadata": {},
   "outputs": [],
   "source": [
    "#RFE with SMOTE\n",
    "model2_SMOTE = LogisticRegression(max_iter=10000)\n",
    "rfe_SMOTE = RFECV(model2_SMOTE, n_jobs=10)\n",
    "rfe_SMOTE.fit(X_train_SMOTE,y_train_SMOTE)\n",
    "y_pred2_SMOTE=rfe_SMOTE.predict(X_test)\n",
    "\n",
    "resultsdf=resultsdf.append(pd.Series(graph_metrics(y_pred2_SMOTE,'Log Reg RFE SMOTE', rfe_SMOTE), index= resultcols), ignore_index=True)\n",
    "y_test1['log_REF_SMOTE'] = y_pred2_SMOTE\n",
    "rfe_SMOTE_vars = cols_used(rfe_SMOTE)"
   ]
  },
  {
   "cell_type": "markdown",
   "metadata": {},
   "source": [
    "#### Decision Tree"
   ]
  },
  {
   "cell_type": "code",
   "execution_count": null,
   "metadata": {},
   "outputs": [],
   "source": [
    "#decision tree\n",
    "model3 = DecisionTreeClassifier()\n",
    "model3 = model3.fit(X_train,y_train)\n",
    "y_pred3 = model3.predict(X_test)\n",
    "\n",
    "resultsdf=resultsdf.append(pd.Series(graph_metrics(y_pred3,'Tree', model3), index= resultcols), ignore_index=True)\n",
    "y_test1['Tree'] = y_pred3"
   ]
  },
  {
   "cell_type": "markdown",
   "metadata": {},
   "source": [
    "#### Decision Tree w/ SMOTE"
   ]
  },
  {
   "cell_type": "code",
   "execution_count": null,
   "metadata": {},
   "outputs": [],
   "source": [
    "#tree with SMOTE\n",
    "model3_SMOTE = DecisionTreeClassifier()\n",
    "model3_SMOTE = model3_SMOTE.fit(X_train,y_train)\n",
    "y_pred3_SMOTE = model3_SMOTE.predict(X_test)\n",
    "\n",
    "resultsdf=resultsdf.append(pd.Series(graph_metrics(y_pred3_SMOTE,'Tree SMOTE', model3_SMOTE), index= resultcols), ignore_index=True)\n",
    "y_test1['Tree_SMOTE'] = y_pred3_SMOTE"
   ]
  },
  {
   "cell_type": "markdown",
   "metadata": {},
   "source": [
    "#### Decision Tree w/ RFE"
   ]
  },
  {
   "cell_type": "code",
   "execution_count": null,
   "metadata": {},
   "outputs": [],
   "source": [
    "#RFEtree\n",
    "model4 = DecisionTreeClassifier()\n",
    "rfe2 = RFECV(model4, n_jobs=10)\n",
    "rfe2.fit(X_train,y_train)\n",
    "y_pred4=rfe2.predict(X_test)\n",
    "\n",
    "resultsdf=resultsdf.append(pd.Series(graph_metrics(y_pred4,'Tree RFE', rfe2), index= resultcols), ignore_index=True)\n",
    "y_test1['Tree_RFE'] = y_pred4\n",
    "rfe2_vars = cols_used(rfe2)"
   ]
  },
  {
   "cell_type": "markdown",
   "metadata": {},
   "source": [
    "#### Decision Tree w/ RFE & SMOTE"
   ]
  },
  {
   "cell_type": "code",
   "execution_count": null,
   "metadata": {},
   "outputs": [],
   "source": [
    "#RFE with SMOTE\n",
    "model4_SMOTE = DecisionTreeClassifier()\n",
    "rfe2_SMOTE = RFECV(model4_SMOTE, n_jobs=10)\n",
    "rfe2_SMOTE.fit(X_train_SMOTE,y_train_SMOTE)\n",
    "y_pred4_SMOTE=rfe2_SMOTE.predict(X_test)\n",
    "\n",
    "resultsdf=resultsdf.append(pd.Series(graph_metrics(y_pred4_SMOTE,'Tree RFE SMOTE', rfe2_SMOTE), index= resultcols), ignore_index=True)\n",
    "y_test1['Tree_RFE_SMOTE'] = y_pred4_SMOTE\n",
    "rfe2_SMOTE_vars = cols_used(rfe2_SMOTE)"
   ]
  },
  {
   "cell_type": "markdown",
   "metadata": {},
   "source": [
    "### Value Models"
   ]
  },
  {
   "cell_type": "code",
   "execution_count": 13,
   "metadata": {},
   "outputs": [
    {
     "name": "stderr",
     "output_type": "stream",
     "text": [
      "<ipython-input-13-eca88b4d0f86>:18: SettingWithCopyWarning: \n",
      "A value is trying to be set on a copy of a slice from a DataFrame.\n",
      "Try using .loc[row_indexer,col_indexer] = value instead\n",
      "\n",
      "See the caveats in the documentation: https://pandas.pydata.org/pandas-docs/stable/user_guide/indexing.html#returning-a-view-versus-a-copy\n",
      "  val_X[convertlist[c]] = val_X[convertlist[c]].astype('category')\n",
      "<ipython-input-13-eca88b4d0f86>:19: SettingWithCopyWarning: \n",
      "A value is trying to be set on a copy of a slice from a DataFrame.\n",
      "Try using .loc[row_indexer,col_indexer] = value instead\n",
      "\n",
      "See the caveats in the documentation: https://pandas.pydata.org/pandas-docs/stable/user_guide/indexing.html#returning-a-view-versus-a-copy\n",
      "  val_X[convertlist[c]] = val_X[convertlist[c]].cat.codes\n"
     ]
    }
   ],
   "source": [
    "df =  pd.read_csv('modelingdfvalue.csv', sep=','  , engine='python')\n",
    "#data prep\n",
    "val_X = df[['id','loan_amnt_cuberoot', 'term', 'int_rate_log', 'grade', \n",
    "              'emp_length2', 'home_ownership2', 'annual_inc_cuberoot', \n",
    "              'desc2', 'purpose', 'dti', 'delinq_2yrs', \n",
    "              'revol_util', 'initial_list_status2', 'application_type', \n",
    "              'tot_coll_amt', 'chargeoff_within_12_mths', 'pct_tl_nvr_dlq', 'pub_rec_bankruptcies', \n",
    "              'total_bal_ex_mort', 'delinq_amt_pct', \n",
    "              'sats_pct', 'max_fico_low','len_credit_cuberoot' ]]\n",
    "\n",
    "\n",
    "#target value\n",
    "val_y = df[['id','total_pymnt']]\n",
    "\n",
    "#process to convert variables to codes from categorical\n",
    "#might consider putting this into the data prep master\n",
    "for c in range(0,len(convertlist)):\n",
    "    val_X[convertlist[c]] = val_X[convertlist[c]].astype('category')\n",
    "    val_X[convertlist[c]] = val_X[convertlist[c]].cat.codes"
   ]
  },
  {
   "cell_type": "code",
   "execution_count": 14,
   "metadata": {},
   "outputs": [],
   "source": [
    "#split the data into test and train sets\n",
    "val_X_train1,val_X_test1,val_y_train1,val_y_test1 = train_test_split(val_X,val_y,test_size=0.25,random_state=13)\n",
    "\n",
    "val_X_train = val_X_train1.drop(['id'], axis=1)\n",
    "val_X_test = val_X_test1.drop(['id'], axis=1)\n",
    "val_y_train = val_y_train1.drop(['id'], axis=1)\n",
    "val_y_test = np.array(val_y_test1['total_pymnt'].to_list())"
   ]
  },
  {
   "cell_type": "markdown",
   "metadata": {},
   "source": [
    "#### Linear Regression"
   ]
  },
  {
   "cell_type": "code",
   "execution_count": 15,
   "metadata": {},
   "outputs": [
    {
     "name": "stderr",
     "output_type": "stream",
     "text": [
      "<ipython-input-15-b659278996f3>:4: SettingWithCopyWarning: \n",
      "A value is trying to be set on a copy of a slice from a DataFrame.\n",
      "Try using .loc[row_indexer,col_indexer] = value instead\n",
      "\n",
      "See the caveats in the documentation: https://pandas.pydata.org/pandas-docs/stable/user_guide/indexing.html#returning-a-view-versus-a-copy\n",
      "  y_test1['Linear_Val'] = val_y_pred1\n"
     ]
    }
   ],
   "source": [
    "val_model1 = LinearRegression()\n",
    "val_model1.fit(val_X_train,val_y_train)\n",
    "val_y_pred1=val_model1.predict(X_test)\n",
    "y_test1['Linear_Val'] = val_y_pred1"
   ]
  },
  {
   "cell_type": "markdown",
   "metadata": {},
   "source": [
    "#### Linear Regression RFE"
   ]
  },
  {
   "cell_type": "code",
   "execution_count": null,
   "metadata": {},
   "outputs": [],
   "source": [
    "val_model2 = LinearRegression()\n",
    "val_rfe = RFECV(val_model2, n_jobs=10)\n",
    "val_rfe.fit(val_X_train,val_y_train)\n",
    "val_y_pred2=val_rfe.predict(X_test)\n",
    "\n",
    "y_test1['Linear_REF_Val'] = val_y_pred2"
   ]
  },
  {
   "cell_type": "markdown",
   "metadata": {},
   "source": [
    "#### Simple Average recovery rate"
   ]
  },
  {
   "cell_type": "code",
   "execution_count": 16,
   "metadata": {},
   "outputs": [
    {
     "name": "stderr",
     "output_type": "stream",
     "text": [
      "<ipython-input-16-344d003dcd33>:2: SettingWithCopyWarning: \n",
      "A value is trying to be set on a copy of a slice from a DataFrame.\n",
      "Try using .loc[row_indexer,col_indexer] = value instead\n",
      "\n",
      "See the caveats in the documentation: https://pandas.pydata.org/pandas-docs/stable/user_guide/indexing.html#returning-a-view-versus-a-copy\n",
      "  y_test1['45_pct'] = val_y_pred3\n"
     ]
    }
   ],
   "source": [
    "val_y_pred3=.5*X_test['loan_amnt_cuberoot']*X_test['loan_amnt_cuberoot']*X_test['loan_amnt_cuberoot']\n",
    "y_test1['45_pct_Val'] = val_y_pred3\n"
   ]
  },
  {
   "cell_type": "markdown",
   "metadata": {},
   "source": [
    "### Results saving"
   ]
  },
  {
   "cell_type": "code",
   "execution_count": 17,
   "metadata": {},
   "outputs": [],
   "source": [
    "#comparison table of model error metrics\n",
    "resultsdf.to_csv('modelresults.csv') "
   ]
  },
  {
   "cell_type": "code",
   "execution_count": 18,
   "metadata": {},
   "outputs": [],
   "source": [
    "#prediction values\n",
    "y_test1.to_csv('predictionvalues.csv')"
   ]
  },
  {
   "cell_type": "code",
   "execution_count": 19,
   "metadata": {},
   "outputs": [],
   "source": [
    "# save the models to disk\n",
    "#pickle.dump(rfe_SMOTE, open('best_model.sav', 'wb'))\n",
    "pickle.dump(val_model1, open('best_value_model.sav', 'wb'))"
   ]
  },
  {
   "cell_type": "markdown",
   "metadata": {},
   "source": []
  },
  {
   "cell_type": "code",
   "execution_count": null,
   "metadata": {},
   "outputs": [],
   "source": []
  },
  {
   "cell_type": "code",
   "execution_count": null,
   "metadata": {},
   "outputs": [],
   "source": []
  },
  {
   "cell_type": "code",
   "execution_count": null,
   "metadata": {},
   "outputs": [],
   "source": []
  },
  {
   "cell_type": "code",
   "execution_count": null,
   "metadata": {},
   "outputs": [],
   "source": []
  }
 ],
 "metadata": {
  "kernelspec": {
   "display_name": "Python 3",
   "language": "python",
   "name": "python3"
  },
  "language_info": {
   "codemirror_mode": {
    "name": "ipython",
    "version": 3
   },
   "file_extension": ".py",
   "mimetype": "text/x-python",
   "name": "python",
   "nbconvert_exporter": "python",
   "pygments_lexer": "ipython3",
   "version": "3.8.3"
  }
 },
 "nbformat": 4,
 "nbformat_minor": 4
}
