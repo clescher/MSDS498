{
 "cells": [
  {
   "cell_type": "code",
   "execution_count": 1,
   "metadata": {},
   "outputs": [],
   "source": [
    "import pandas as pd\n",
    "import os"
   ]
  },
  {
   "cell_type": "code",
   "execution_count": 2,
   "metadata": {},
   "outputs": [],
   "source": [
    "os.chdir(\"C:/Users/clesc/OneDrive/Documents/Northwestern/MSDS 498/Code\")\n",
    "\n",
    "df =  pd.read_csv('dashboardmerger.csv', sep=','  , engine='python')\n",
    "df1 =  pd.read_csv('predictionvalues.csv', sep=','  , engine='python')"
   ]
  },
  {
   "cell_type": "code",
   "execution_count": 3,
   "metadata": {},
   "outputs": [],
   "source": [
    "result = pd.merge(df1,\n",
    "                 df[['id', 'total_pymnt', 'term', 'int_rate', 'grade', 'emp_length2', \n",
    "                     'home_ownership2', 'annual_inc', 'desc2', 'purpose', 'dti', 'delinq_2yrs', \n",
    "                     'revol_util', 'pub_rec_bankruptcies', 'len_credit', 'funded_amnt']],\n",
    "                 on=['id'], \n",
    "                 how='left')"
   ]
  },
  {
   "cell_type": "code",
   "execution_count": 4,
   "metadata": {},
   "outputs": [],
   "source": [
    "result = result.drop(['Unnamed: 0'], axis=1)\n",
    "result = result.drop(['pred_ind'], axis=1)"
   ]
  },
  {
   "cell_type": "code",
   "execution_count": 5,
   "metadata": {},
   "outputs": [],
   "source": [
    "result.to_csv('dashboard_data.csv')\t"
   ]
  }
 ],
 "metadata": {
  "kernelspec": {
   "display_name": "Python 3",
   "language": "python",
   "name": "python3"
  },
  "language_info": {
   "codemirror_mode": {
    "name": "ipython",
    "version": 3
   },
   "file_extension": ".py",
   "mimetype": "text/x-python",
   "name": "python",
   "nbconvert_exporter": "python",
   "pygments_lexer": "ipython3",
   "version": "3.8.3"
  }
 },
 "nbformat": 4,
 "nbformat_minor": 4
}
