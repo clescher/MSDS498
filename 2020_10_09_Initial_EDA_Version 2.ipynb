{
 "cells": [
  {
   "cell_type": "markdown",
   "metadata": {},
   "source": [
    "## EDA and data preparation code development\n",
    "\n",
    "### Northwestern Banking\n",
    "\n",
    "#### Loan prediction project"
   ]
  },
  {
   "cell_type": "code",
   "execution_count": 1,
   "metadata": {},
   "outputs": [],
   "source": [
    "# Initiate Libraries\n",
    "\n",
    "import matplotlib.pyplot as plt\n",
    "import numpy as np\n",
    "import pandas as pd\n",
    "import seaborn as sns\n",
    "import datetime\n",
    "\n",
    "import os\n"
   ]
  },
  {
   "cell_type": "code",
   "execution_count": 2,
   "metadata": {},
   "outputs": [
    {
     "name": "stderr",
     "output_type": "stream",
     "text": [
      "C:\\Users\\jlsud\\anaconda3\\envs\\NWU2\\lib\\site-packages\\IPython\\core\\interactiveshell.py:3049: DtypeWarning: Columns (1,7,20,36,50,60,119,130,131,132,135,136,137,140,145,146,147) have mixed types. Specify dtype option on import or set low_memory=False.\n",
      "  interactivity=interactivity, compiler=compiler, result=result)\n"
     ]
    }
   ],
   "source": [
    "# Import CSV\n",
    "datapath = os.path\n",
    "df = pd.read_csv(\"smallerdata.csv\",  sep=',')\n",
    "# df = pd.read_excel(\"smallerdata.csv\")"
   ]
  },
  {
   "cell_type": "markdown",
   "metadata": {},
   "source": [
    "### Remove unnecessary columns"
   ]
  },
  {
   "cell_type": "code",
   "execution_count": 6,
   "metadata": {},
   "outputs": [],
   "source": [
    "# Remove column created for random numbers - used to random sample larger dataset\n",
    "\n",
    "del df['Unnamed: 0']"
   ]
  },
  {
   "cell_type": "code",
   "execution_count": 7,
   "metadata": {},
   "outputs": [],
   "source": [
    "# Remove column with website address for loan\n",
    "\n",
    "del df['url']"
   ]
  },
  {
   "cell_type": "markdown",
   "metadata": {},
   "source": [
    "###  'id' column contains summary rows\n",
    "To eliminate these summary rows, the variable must first be recast from object to string. \n",
    "Each summary row contains the word 'amount'. We will use this to elminiate these rows.\n",
    "\n",
    "Finally, the 'id' variable will be converted to an integer"
   ]
  },
  {
   "cell_type": "code",
   "execution_count": null,
   "metadata": {},
   "outputs": [],
   "source": [
    "df['id'].dtype"
   ]
  },
  {
   "cell_type": "code",
   "execution_count": 8,
   "metadata": {},
   "outputs": [],
   "source": [
    "# Convert all of 'id' to string type first to allow next cell to drop rows \n",
    "\n",
    "df['id']=df['id'].astype(str)"
   ]
  },
  {
   "cell_type": "code",
   "execution_count": 9,
   "metadata": {},
   "outputs": [],
   "source": [
    "# Remove summary rows\n",
    "\n",
    "df = df[~df['id'].str.contains(\"amount\")]"
   ]
  },
  {
   "cell_type": "code",
   "execution_count": 10,
   "metadata": {},
   "outputs": [
    {
     "data": {
      "text/plain": [
       "dtype('O')"
      ]
     },
     "execution_count": 10,
     "metadata": {},
     "output_type": "execute_result"
    }
   ],
   "source": [
    "df['id'].dtype"
   ]
  },
  {
   "cell_type": "code",
   "execution_count": 11,
   "metadata": {},
   "outputs": [
    {
     "data": {
      "text/plain": [
       "count        265292\n",
       "unique       265292\n",
       "top       149406288\n",
       "freq              1\n",
       "Name: id, dtype: object"
      ]
     },
     "execution_count": 11,
     "metadata": {},
     "output_type": "execute_result"
    }
   ],
   "source": [
    "df['id'].describe()"
   ]
  },
  {
   "cell_type": "code",
   "execution_count": 12,
   "metadata": {},
   "outputs": [],
   "source": [
    "# convert 'id' to integer\n",
    "\n",
    "df['id']=df['id'].astype(np.int32)"
   ]
  },
  {
   "cell_type": "code",
   "execution_count": 13,
   "metadata": {},
   "outputs": [
    {
     "data": {
      "text/plain": [
       "count    2.652920e+05\n",
       "mean     9.094560e+07\n",
       "std      4.871346e+07\n",
       "min      5.891500e+04\n",
       "25%      5.484879e+07\n",
       "50%      9.603417e+07\n",
       "75%      1.350207e+08\n",
       "max      1.596103e+08\n",
       "Name: id, dtype: float64"
      ]
     },
     "execution_count": 13,
     "metadata": {},
     "output_type": "execute_result"
    }
   ],
   "source": [
    "df['id'].describe()"
   ]
  },
  {
   "cell_type": "code",
   "execution_count": 14,
   "metadata": {},
   "outputs": [],
   "source": [
    "# Reset index after eliminating the summary rows\n",
    "\n",
    "df = df.reset_index(drop=True)"
   ]
  },
  {
   "cell_type": "markdown",
   "metadata": {},
   "source": [
    "### Convert Date Variables\n",
    "This data set contains numerous date variables that are all stored as object. \n",
    "The format for the dates is inconsistent. A function was developed to deal with these\n",
    "variables."
   ]
  },
  {
   "cell_type": "code",
   "execution_count": null,
   "metadata": {},
   "outputs": [],
   "source": [
    "df['issue_d'].dtype"
   ]
  },
  {
   "cell_type": "code",
   "execution_count": null,
   "metadata": {},
   "outputs": [],
   "source": [
    "# Updated Date Convert on 9-Oct-2020\n",
    "\n",
    "def dateconvert(datestring):\n",
    "\n",
    "    #empty \n",
    "    if type(datestring) == float:\n",
    "        year = \"1900\"\n",
    "        month = \"Jan\"\n",
    "    #3-Jan for 01/01/2003\n",
    "    elif len(datestring)==5:\n",
    "        year = \"0\" + datestring[0:1]\n",
    "        month = datestring[2:5]\n",
    "    #19-Mar for 03/01/2019\n",
    "    elif datestring[0:2].isnumeric():\n",
    "        year = datestring[0:2]\n",
    "        month = datestring[3:6]\n",
    "    #Feb-2000 for 02/01/2000    \n",
    "    elif datestring[4:8].isnumeric() and len (datestring[4:8])==4:\n",
    "        month = datestring[0:3]\n",
    "        year = datestring[4:8]\n",
    "    #Feb-01 for 02/01/2019\n",
    "    elif datestring[4:8].isnumeric() and len (datestring[4:8])==2:\n",
    "        month = datestring[0:3]\n",
    "        year = datestring[4:6]\n",
    "    \n",
    "    date_time_str = month +' 01 '+ year\n",
    "    #date format switches partiall through the dataset to not include 4 char year\n",
    "    if len(year)==2:\n",
    "        date_time_obj = datetime.datetime.strptime(date_time_str, '%b %d %y')  \n",
    "    else:\n",
    "        date_time_obj = datetime.datetime.strptime(date_time_str, '%b %d %Y')\n",
    "    \n",
    "    return date_time_obj"
   ]
  },
  {
   "cell_type": "code",
   "execution_count": 15,
   "metadata": {},
   "outputs": [],
   "source": [
    "# List of columns for data transformation\n",
    "\n",
    "datecol_list = ['issue_d','earliest_cr_line','last_pymnt_d','last_credit_pull_d',\n",
    "                'hardship_start_date','hardship_end_date','payment_plan_start_date',\n",
    "                'debt_settlement_flag_date','settlement_date']"
   ]
  },
  {
   "cell_type": "code",
   "execution_count": 16,
   "metadata": {},
   "outputs": [],
   "source": [
    "for c in range(0,len(datecol_list)):\n",
    "    df[datecol_list[c]+\"2\"] = df.apply(lambda x: dateconvert(x[datecol_list[c]]), axis =1)"
   ]
  },
  {
   "cell_type": "code",
   "execution_count": 17,
   "metadata": {},
   "outputs": [
    {
     "data": {
      "text/plain": [
       "id                                                     int32\n",
       "member_id                                            float64\n",
       "loan_amnt                                            float64\n",
       "funded_amnt                                          float64\n",
       "funded_amnt_inv                                      float64\n",
       "term                                                  object\n",
       "int_rate                                              object\n",
       "installment                                          float64\n",
       "grade                                                 object\n",
       "sub_grade                                             object\n",
       "emp_title                                             object\n",
       "emp_length                                            object\n",
       "home_ownership                                        object\n",
       "annual_inc                                           float64\n",
       "verification_status                                   object\n",
       "issue_d                                               object\n",
       "loan_status                                           object\n",
       "pymnt_plan                                            object\n",
       "desc                                                  object\n",
       "purpose                                               object\n",
       "title                                                 object\n",
       "zip_code                                              object\n",
       "addr_state                                            object\n",
       "dti                                                  float64\n",
       "delinq_2yrs                                          float64\n",
       "earliest_cr_line                                      object\n",
       "fico_range_low                                       float64\n",
       "fico_range_high                                      float64\n",
       "inq_last_6mths                                       float64\n",
       "mths_since_last_delinq                               float64\n",
       "                                                   ...      \n",
       "hardship_reason                                       object\n",
       "hardship_status                                       object\n",
       "deferral_term                                        float64\n",
       "hardship_amount                                      float64\n",
       "hardship_start_date                                   object\n",
       "hardship_end_date                                     object\n",
       "payment_plan_start_date                               object\n",
       "hardship_length                                      float64\n",
       "hardship_dpd                                         float64\n",
       "hardship_loan_status                                  object\n",
       "orig_projected_additional_accrued_interest           float64\n",
       "hardship_payoff_balance_amount                       float64\n",
       "hardship_last_payment_amount                         float64\n",
       "debt_settlement_flag                                  object\n",
       "debt_settlement_flag_date                             object\n",
       "settlement_status                                     object\n",
       "settlement_date                                       object\n",
       "settlement_amount                                    float64\n",
       "settlement_percentage                                float64\n",
       "settlement_term                                      float64\n",
       "rand                                                 float64\n",
       "issue_d2                                      datetime64[ns]\n",
       "earliest_cr_line2                             datetime64[ns]\n",
       "last_pymnt_d2                                 datetime64[ns]\n",
       "last_credit_pull_d2                           datetime64[ns]\n",
       "hardship_start_date2                                  object\n",
       "hardship_end_date2                                    object\n",
       "payment_plan_start_date2                              object\n",
       "debt_settlement_flag_date2                            object\n",
       "settlement_date2                                      object\n",
       "Length: 159, dtype: object"
      ]
     },
     "execution_count": 17,
     "metadata": {},
     "output_type": "execute_result"
    }
   ],
   "source": [
    "df.dtypes"
   ]
  },
  {
   "cell_type": "markdown",
   "metadata": {},
   "source": [
    "### Convert Interest Rate from String with % sign"
   ]
  },
  {
   "cell_type": "code",
   "execution_count": null,
   "metadata": {},
   "outputs": [],
   "source": [
    "df['issue_d'].head()"
   ]
  },
  {
   "cell_type": "code",
   "execution_count": 18,
   "metadata": {},
   "outputs": [],
   "source": [
    "# convert 'int_rate' to string\n",
    "\n",
    "df['int_rate']=df['int_rate'].astype(str)"
   ]
  },
  {
   "cell_type": "code",
   "execution_count": 19,
   "metadata": {},
   "outputs": [],
   "source": [
    "# strip off % sign and convert to float\n",
    "\n",
    "df['int_rate'] = df['int_rate'].str.rstrip('%').astype('float') / 100.0"
   ]
  },
  {
   "cell_type": "code",
   "execution_count": 20,
   "metadata": {},
   "outputs": [
    {
     "data": {
      "text/plain": [
       "0    0.1199\n",
       "1    0.0849\n",
       "2    0.1288\n",
       "3    0.1344\n",
       "4    0.1288\n",
       "Name: int_rate, dtype: float64"
      ]
     },
     "execution_count": 20,
     "metadata": {},
     "output_type": "execute_result"
    }
   ],
   "source": [
    "df['int_rate'].head()"
   ]
  },
  {
   "cell_type": "code",
   "execution_count": null,
   "metadata": {},
   "outputs": [],
   "source": []
  },
  {
   "cell_type": "markdown",
   "metadata": {},
   "source": [
    "### EDA helpers"
   ]
  },
  {
   "cell_type": "code",
   "execution_count": null,
   "metadata": {},
   "outputs": [],
   "source": [
    "# This is a quick and dirty function for quick reviews of variables \n",
    "# Example cell follows\n",
    "\n",
    "# Works on numerical. Categoricals will still return number missing and description but will then throw error. \n",
    "# NOT A GREAT function but it saved me some cut and paste time\n",
    "\n",
    "def analyze_var(var):\n",
    "    print(var.describe())\n",
    "    print('\\n')\n",
    "    print('number missing:')\n",
    "    print(sum(var.isnull()))\n",
    "\n",
    "    sns.distplot(var, color='g', bins=100)"
   ]
  },
  {
   "cell_type": "code",
   "execution_count": null,
   "metadata": {},
   "outputs": [],
   "source": [
    "# Example - dataframe['variable']\n",
    "\n",
    "analyze_var(df['settlement_term'])"
   ]
  },
  {
   "cell_type": "code",
   "execution_count": null,
   "metadata": {},
   "outputs": [],
   "source": []
  },
  {
   "cell_type": "code",
   "execution_count": null,
   "metadata": {},
   "outputs": [],
   "source": [
    "# Found this on web Good way to review our variables post clean\n",
    "# https://stackoverflow.com/questions/37366717/pandas-print-column-name-with-missing-values\n",
    "\n",
    "def missing_zero_values_table(df):\n",
    "        zero_val = (df == 0.00).astype(int).sum(axis=0)\n",
    "        mis_val = df.isnull().sum()\n",
    "        mis_val_percent = 100 * df.isnull().sum() / len(df)\n",
    "        mz_table = pd.concat([zero_val, mis_val, mis_val_percent], axis=1)\n",
    "        mz_table = mz_table.rename(\n",
    "        columns = {0 : 'Zero Values', 1 : 'Missing Values', 2 : '% of Total Values'})\n",
    "        mz_table['Total Zero Missing Values'] = mz_table['Zero Values'] + mz_table['Missing Values']\n",
    "        mz_table['% Total Zero Missing Values'] = 100 * mz_table['Total Zero Missing Values'] / len(df)\n",
    "        mz_table['Data Type'] = df.dtypes\n",
    "        mz_table = mz_table[\n",
    "            mz_table.iloc[:,1] != 0].sort_values(\n",
    "        '% of Total Values', ascending=False).round(1)\n",
    "        print (\"Your selected dataframe has \" + str(df.shape[1]) + \" columns and \" + str(df.shape[0]) + \" Rows.\\n\"      \n",
    "            \"There are \" + str(mz_table.shape[0]) +\n",
    "              \" columns that have missing values.\")\n",
    "#         mz_table.to_excel('D:/sampledata/missing_and_zero_values.xlsx', freeze_panes=(1,0), index = False)\n",
    "        return mz_table\n",
    "\n",
    "missing_zero_values_table(df)"
   ]
  },
  {
   "cell_type": "code",
   "execution_count": null,
   "metadata": {},
   "outputs": [],
   "source": []
  },
  {
   "cell_type": "code",
   "execution_count": null,
   "metadata": {},
   "outputs": [],
   "source": []
  },
  {
   "cell_type": "code",
   "execution_count": null,
   "metadata": {},
   "outputs": [],
   "source": []
  },
  {
   "cell_type": "code",
   "execution_count": null,
   "metadata": {},
   "outputs": [],
   "source": []
  },
  {
   "cell_type": "code",
   "execution_count": null,
   "metadata": {},
   "outputs": [],
   "source": []
  },
  {
   "cell_type": "code",
   "execution_count": null,
   "metadata": {},
   "outputs": [],
   "source": []
  },
  {
   "cell_type": "code",
   "execution_count": null,
   "metadata": {},
   "outputs": [],
   "source": []
  },
  {
   "cell_type": "code",
   "execution_count": null,
   "metadata": {},
   "outputs": [],
   "source": []
  },
  {
   "cell_type": "code",
   "execution_count": null,
   "metadata": {},
   "outputs": [],
   "source": []
  }
 ],
 "metadata": {
  "kernelspec": {
   "display_name": "Python 3",
   "language": "python",
   "name": "python3"
  },
  "language_info": {
   "codemirror_mode": {
    "name": "ipython",
    "version": 3
   },
   "file_extension": ".py",
   "mimetype": "text/x-python",
   "name": "python",
   "nbconvert_exporter": "python",
   "pygments_lexer": "ipython3",
   "version": "3.6.12"
  }
 },
 "nbformat": 4,
 "nbformat_minor": 2
}
