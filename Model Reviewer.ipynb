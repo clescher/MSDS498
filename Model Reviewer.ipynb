{
 "cells": [
  {
   "cell_type": "code",
   "execution_count": null,
   "metadata": {},
   "outputs": [],
   "source": [
    "import pandas as pd\n",
    "import pickle\n"
   ]
  },
  {
   "cell_type": "code",
   "execution_count": null,
   "metadata": {},
   "outputs": [],
   "source": [
    "#this is the feature selection list from the modeling file\n",
    "cols = ['loan_amnt_cuberoot', 'term', 'int_rate_log', 'grade', \n",
    "              'emp_length2', 'home_ownership2', 'annual_inc_cuberoot', \n",
    "              'desc2', 'purpose', 'dti_cube', 'delinq_2yrs', \n",
    "              'revol_util', 'initial_list_status2', 'application_type', \n",
    "              'tot_coll_amt', 'chargeoff_within_12_mths', 'pct_tl_nvr_dlq', 'pub_rec_bankruptcies', \n",
    "              'total_bal_ex_mort', 'delinq_amt_pct', \n",
    "              'sats_pct', 'max_fico_low','len_credit_cuberoot' ]\n"
   ]
  },
  {
   "cell_type": "code",
   "execution_count": null,
   "metadata": {},
   "outputs": [],
   "source": [
    "#loads the model\n",
    "rfe_SMOTE = pickle.load(open('rfe_SMOTE.sav', 'rb'))\n",
    "#ranking gives the rank of each feature, anything with a \"1\" is used in the final model\n",
    "rfe_smote_ranking = rfe_SMOTE.ranking_\n"
   ]
  },
  {
   "cell_type": "code",
   "execution_count": null,
   "metadata": {},
   "outputs": [],
   "source": [
    "#creates dataframe with the features and their ranking\n",
    "df =pd.DataFrame({'Feature':cols})\n",
    "df['ranking'] = pd.DataFrame(rfe_smote_ranking)"
   ]
  }
 ],
 "metadata": {
  "kernelspec": {
   "display_name": "Python 3",
   "language": "python",
   "name": "python3"
  },
  "language_info": {
   "codemirror_mode": {
    "name": "ipython",
    "version": 3
   },
   "file_extension": ".py",
   "mimetype": "text/x-python",
   "name": "python",
   "nbconvert_exporter": "python",
   "pygments_lexer": "ipython3",
   "version": "3.8.3"
  }
 },
 "nbformat": 4,
 "nbformat_minor": 4
}
