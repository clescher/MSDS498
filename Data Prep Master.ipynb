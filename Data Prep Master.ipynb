{
 "cells": [
  {
   "cell_type": "markdown",
   "metadata": {},
   "source": [
    "## EDA and data preparation code development\n",
    "\n",
    "### Northwestern Banking\n",
    "\n",
    "#### Loan prediction project\n",
    "##### Updated 10-10-2020 Lescher"
   ]
  },
  {
   "cell_type": "code",
   "execution_count": 1,
   "metadata": {},
   "outputs": [],
   "source": [
    "# Initiate Libraries\n",
    "\n",
    "import matplotlib.pyplot as plt\n",
    "import numpy as np\n",
    "import pandas as pd\n",
    "import seaborn as sns\n",
    "import datetime\n",
    "import os\n"
   ]
  },
  {
   "cell_type": "code",
   "execution_count": 2,
   "metadata": {},
   "outputs": [
    {
     "name": "stderr",
     "output_type": "stream",
     "text": [
      "C:\\Users\\clesc\\anaconda3\\lib\\site-packages\\IPython\\core\\interactiveshell.py:3071: DtypeWarning: Columns (7,20,36,50,60,119,130,131,132,135,136,137,140,145,146,147) have mixed types.Specify dtype option on import or set low_memory=False.\n",
      "  has_raised = await self.run_ast_nodes(code_ast.body, cell_name,\n"
     ]
    }
   ],
   "source": [
    "# Import CSV\n",
    "datapath = os.path\n",
    "df = pd.read_csv(\"smallerdata.csv\",  sep=',')\n",
    "# df = pd.read_excel(\"smallerdata.csv\")"
   ]
  },
  {
   "cell_type": "markdown",
   "metadata": {},
   "source": [
    "### Declare all Functions here"
   ]
  },
  {
   "cell_type": "code",
   "execution_count": 3,
   "metadata": {},
   "outputs": [],
   "source": [
    "#a function that receives the dataframe, data column & row you wish to alter a string into a date format\n",
    "def dateconvert(datestring):\n",
    "\n",
    "    #empty \n",
    "    if type(datestring) == float:\n",
    "        year = \"1900\"\n",
    "        month = \"Jan\"\n",
    "    #3-Jan for 01/01/2003\n",
    "    elif len(datestring)==5:\n",
    "        year = \"200\" + datestring[0:1]\n",
    "        month = datestring[2:5]\n",
    "    #19-Mar for 03/01/2019\n",
    "    elif datestring[0:2].isnumeric():\n",
    "        year = datestring[0:2]\n",
    "        month = datestring[3:6]\n",
    "    #Feb-2000 for 02/01/2000    \n",
    "    elif datestring[4:8].isnumeric() and len (datestring[4:8])==4:\n",
    "        month = datestring[0:3]\n",
    "        year = datestring[4:8]\n",
    "    #Feb-01 for 02/01/2019\n",
    "    elif datestring[4:8].isnumeric() and len (datestring[4:8])==2:\n",
    "        month = datestring[0:3]\n",
    "        year = datestring[4:6]\n",
    "    \n",
    "    #this is a manual process to convert 2 year dates to 4 since the automatic one doesn't work\n",
    "    if len(year)==2:\n",
    "        if int(year) < 21:\n",
    "            year=\"20\"+year\n",
    "        else:\n",
    "            year = \"19\"+year\n",
    "    \n",
    "    date_time_str = month +' 01 '+ year\n",
    "    #all dates have to be forced to a 4 year, otherwise we get like 2065 as dates\n",
    "    date_time_obj = datetime.datetime.strptime(date_time_str, '%b %d %Y')\n",
    "    \n",
    "    return date_time_obj"
   ]
  },
  {
   "cell_type": "markdown",
   "metadata": {},
   "source": [
    "###  Data Cleaning Code"
   ]
  },
  {
   "cell_type": "markdown",
   "metadata": {},
   "source": [
    "#### id"
   ]
  },
  {
   "cell_type": "code",
   "execution_count": 4,
   "metadata": {},
   "outputs": [],
   "source": [
    "#removes those wierd summary rows as they all contain the word \"amount\" in the id column\n",
    "#converts ID to string to then search it, then changes it back to integer to ensure no issues\n",
    "df['id']=df['id'].astype(str)\n",
    "df = df[~df['id'].str.contains(\"amount\")]\n",
    "df['id']=df['id'].astype(np.int32)\n",
    "#resets the index in order so further coding can be easier\n",
    "df = df.reset_index(drop=True)"
   ]
  },
  {
   "cell_type": "markdown",
   "metadata": {},
   "source": [
    "#### Date related columns"
   ]
  },
  {
   "cell_type": "code",
   "execution_count": 5,
   "metadata": {},
   "outputs": [],
   "source": [
    "#add the column headers you need to this date converting list\n",
    "datecol_list = ['issue_d','earliest_cr_line','last_pymnt_d','last_credit_pull_d',\n",
    "                'hardship_start_date','hardship_end_date','payment_plan_start_date',\n",
    "                'debt_settlement_flag_date','settlement_date']\n",
    "\n",
    "#loops the date columns through the dateconvert function and creates new columns with a \"2\" at the end\n",
    "for c in range(0,len(datecol_list)):\n",
    "    df[datecol_list[c]+\"2\"] = df.apply(lambda x: dateconvert(x[datecol_list[c]]), axis =1)\n",
    "    df[datecol_list[c]+\"2\"] = pd.to_datetime(df[datecol_list[c]+\"2\"])"
   ]
  },
  {
   "cell_type": "markdown",
   "metadata": {},
   "source": [
    "#### int_rate"
   ]
  },
  {
   "cell_type": "code",
   "execution_count": 6,
   "metadata": {},
   "outputs": [],
   "source": [
    "# convert 'int_rate' to string\n",
    "df['int_rate']=df['int_rate'].astype(str)\n",
    "# strip off % sign and convert to float\n",
    "df['int_rate'] = df['int_rate'].str.rstrip('%').astype('float') / 100.0"
   ]
  },
  {
   "cell_type": "markdown",
   "metadata": {},
   "source": [
    "## Feature Generation"
   ]
  },
  {
   "cell_type": "markdown",
   "metadata": {},
   "source": [
    "#### len_credit"
   ]
  },
  {
   "cell_type": "code",
   "execution_count": 7,
   "metadata": {},
   "outputs": [],
   "source": [
    "#calculates the length of credit they've had in years\n",
    "df['len_credit'] = pd.to_numeric((df['issue_d2']-df['earliest_cr_line2']).dt.days)/365"
   ]
  },
  {
   "cell_type": "markdown",
   "metadata": {},
   "source": [
    "#### max_fico_high"
   ]
  },
  {
   "cell_type": "code",
   "execution_count": 8,
   "metadata": {},
   "outputs": [],
   "source": [
    "df['max_fico_high']= df[[\"fico_range_high\", \"sec_app_fico_range_high\"]].max(axis=1)"
   ]
  },
  {
   "cell_type": "markdown",
   "metadata": {},
   "source": [
    "#### max_fico_low"
   ]
  },
  {
   "cell_type": "code",
   "execution_count": 9,
   "metadata": {},
   "outputs": [],
   "source": [
    "df['max_fico_low']= df[[\"fico_range_low\", \"sec_app_fico_range_low\"]].max(axis=1)"
   ]
  },
  {
   "cell_type": "markdown",
   "metadata": {},
   "source": [
    "#### delinq_amt_pct "
   ]
  },
  {
   "cell_type": "code",
   "execution_count": 10,
   "metadata": {},
   "outputs": [],
   "source": [
    "df['delinq_amt_pct']=(df['delinq_amnt']/df['out_prncp'])"
   ]
  },
  {
   "cell_type": "markdown",
   "metadata": {},
   "source": [
    "#### sats_pct "
   ]
  },
  {
   "cell_type": "code",
   "execution_count": 11,
   "metadata": {},
   "outputs": [],
   "source": [
    "df['sats_pct']=(df['num_sats']/df['open_acc'])"
   ]
  },
  {
   "cell_type": "markdown",
   "metadata": {},
   "source": [
    "#### emp_length2"
   ]
  },
  {
   "cell_type": "code",
   "execution_count": 12,
   "metadata": {},
   "outputs": [],
   "source": [
    "#converts employment lengt to a number (imputes 0 years for null)\n",
    "df['emp_length2'] = df['emp_length'].str[0:1]\n",
    "df.loc[df['emp_length']==\"< 1 year\", 'emp_length2'] = \"0\"\n",
    "df.loc[df['emp_length']==\"10+ years\", 'emp_length2'] = \">\"\n",
    "df.loc[df['emp_length2']==\">\", 'emp_length2'] = \"10\"\n",
    "df.loc[df['emp_length'].isnull(), 'emp_length2'] = \"0\"\n",
    "df['emp_length2']=df['emp_length2'].astype(int)"
   ]
  },
  {
   "cell_type": "markdown",
   "metadata": {},
   "source": [
    "#### initial_list_status (create dummy)"
   ]
  },
  {
   "cell_type": "code",
   "execution_count": 13,
   "metadata": {},
   "outputs": [],
   "source": [
    "df.loc[df['initial_list_status']==\"w\", 'initial_list_status2'] = 0\n",
    "df.loc[df['initial_list_status']==\"f\", 'initial_list_status2'] = 1"
   ]
  },
  {
   "cell_type": "markdown",
   "metadata": {},
   "source": [
    "#### hardship_flag"
   ]
  },
  {
   "cell_type": "code",
   "execution_count": 14,
   "metadata": {},
   "outputs": [],
   "source": [
    "df.loc[df['hardship_flag']==\"N\", 'hardship_flag2'] = 0\n",
    "df.loc[df['hardship_flag']==\"Y\", 'hardship_flag2'] = 1"
   ]
  },
  {
   "cell_type": "markdown",
   "metadata": {},
   "source": [
    "# UPDATE\n",
    "#### home_ownership"
   ]
  },
  {
   "cell_type": "code",
   "execution_count": 15,
   "metadata": {},
   "outputs": [],
   "source": [
    "df['home_ownership2'] = df['home_ownership']"
   ]
  },
  {
   "cell_type": "markdown",
   "metadata": {},
   "source": [
    "# UPDATE\n",
    "#### desc"
   ]
  },
  {
   "cell_type": "code",
   "execution_count": 16,
   "metadata": {},
   "outputs": [],
   "source": [
    "df['desc2'] = df['desc']"
   ]
  },
  {
   "cell_type": "markdown",
   "metadata": {},
   "source": [
    "#### verification_status"
   ]
  },
  {
   "cell_type": "code",
   "execution_count": 17,
   "metadata": {},
   "outputs": [],
   "source": [
    "df.loc[df['verification_status']==\"Not Verified\", 'verification_status2'] = 0\n",
    "df.loc[df['verification_status']==\"Verified\", 'verification_status2'] = 1\n",
    "df.loc[df['verification_status']==\"Source Verified\", 'verification_status2'] = 1"
   ]
  },
  {
   "cell_type": "markdown",
   "metadata": {},
   "source": [
    "#### pymnt_plan"
   ]
  },
  {
   "cell_type": "code",
   "execution_count": 18,
   "metadata": {},
   "outputs": [],
   "source": [
    "df.loc[df['pymnt_plan']==\"n\", 'pymnt_plan2'] = 0\n",
    "df.loc[df['pymnt_plan']==\"y\", 'pymnt_plan2'] = 1"
   ]
  },
  {
   "cell_type": "markdown",
   "metadata": {},
   "source": [
    "#### default_ind"
   ]
  },
  {
   "cell_type": "code",
   "execution_count": 19,
   "metadata": {},
   "outputs": [],
   "source": [
    "#creates binary indicator for defaulted or not\n",
    "#just an error checker to ensure that all statuses are accounted for\n",
    "df['default_ind']=2\n",
    "#should be a lsit of all good status loans\n",
    "df.loc[(df['loan_status'] == 'Fully Paid') | \n",
    "       (df['loan_status'] == 'Current') | \n",
    "        (df['loan_status'] == 'Does not meet the credit policy. Status:Fully Paid') |\n",
    "        (df['loan_status'] == 'In Grace Period') |\n",
    "        (df['loan_status'] == 'Late (16-30 days)') |\n",
    "        (df['loan_status'] == 'Late (31-120 days)'), 'default_ind'] = 0\n",
    "#should be a list of all defaulted loans\n",
    "df.loc[(df['loan_status'] == 'Charged Off') | \n",
    "       (df['loan_status'] == 'Default') | \n",
    "        (df['loan_status'] == 'Does not meet the credit policy. Status:Charged Off'), 'default_ind'] = 1"
   ]
  },
  {
   "cell_type": "code",
   "execution_count": null,
   "metadata": {},
   "outputs": [],
   "source": []
  },
  {
   "cell_type": "markdown",
   "metadata": {},
   "source": [
    "## Row/bad data deletion"
   ]
  },
  {
   "cell_type": "markdown",
   "metadata": {},
   "source": [
    "#### Bad dates"
   ]
  },
  {
   "cell_type": "code",
   "execution_count": 20,
   "metadata": {},
   "outputs": [],
   "source": [
    "#removes rows with empty dates as they were all set to 01/01/1990\n",
    "df=df[(df['issue_d2']!=\"1900-01-01\") | (df['earliest_cr_line2']!=\"1900-01-01\")]"
   ]
  },
  {
   "cell_type": "code",
   "execution_count": null,
   "metadata": {},
   "outputs": [],
   "source": []
  },
  {
   "cell_type": "markdown",
   "metadata": {},
   "source": [
    "## Modeling data set creation"
   ]
  },
  {
   "cell_type": "code",
   "execution_count": 21,
   "metadata": {},
   "outputs": [],
   "source": [
    "#keep only columns we need\n",
    "modeldf = df[['id', 'default_ind', 'loan_amnt', 'funded_amnt', \n",
    "              'term', 'int_rate', 'installment', 'grade', 'sub_grade', \n",
    "              'emp_length2', 'home_ownership2', 'annual_inc', \n",
    "              'verification_status2',  'pymnt_plan2', 'desc2', 'purpose', \n",
    "              'dti', 'delinq_2yrs', 'earliest_cr_line2', 'mths_since_last_delinq', \n",
    "              'open_acc', 'revol_bal', 'revol_util', 'total_acc', 'initial_list_status2', \n",
    "              'collections_12_mths_ex_med', 'mths_since_last_major_derog', 'application_type', \n",
    "              'annual_inc_joint', 'dti_joint', 'verification_status_joint', \n",
    "              'acc_now_delinq', 'tot_coll_amt', 'tot_cur_bal', 'all_util', \n",
    "              'inq_last_12m', 'bc_util', 'chargeoff_within_12_mths', 'delinq_amnt', \n",
    "              'num_accts_ever_120_pd', 'num_tl_120dpd_2m', 'num_tl_30dpd', 'num_tl_90g_dpd_24m', \n",
    "              'num_tl_op_past_12m', 'pct_tl_nvr_dlq', 'percent_bc_gt_75', 'pub_rec_bankruptcies', \n",
    "              'tax_liens', 'tot_hi_cred_lim', 'total_bal_ex_mort', 'hardship_flag2', 'delinq_amt_pct', \n",
    "              'sats_pct', 'max_fico_high', 'max_fico_low','len_credit' ]]"
   ]
  },
  {
   "cell_type": "code",
   "execution_count": 22,
   "metadata": {},
   "outputs": [],
   "source": [
    "#split into training and testing \n",
    "#needs to actually be coded in\n",
    "modeldftrain=modeldf"
   ]
  },
  {
   "cell_type": "code",
   "execution_count": 23,
   "metadata": {},
   "outputs": [],
   "source": [
    "#save files\n",
    "modeldftrain.to_csv('modelingdftrain.csv')  "
   ]
  }
 ],
 "metadata": {
  "kernelspec": {
   "display_name": "Python 3",
   "language": "python",
   "name": "python3"
  },
  "language_info": {
   "codemirror_mode": {
    "name": "ipython",
    "version": 3
   },
   "file_extension": ".py",
   "mimetype": "text/x-python",
   "name": "python",
   "nbconvert_exporter": "python",
   "pygments_lexer": "ipython3",
   "version": "3.8.3"
  }
 },
 "nbformat": 4,
 "nbformat_minor": 2
}
