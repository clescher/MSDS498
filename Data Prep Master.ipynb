{
 "cells": [
  {
   "cell_type": "markdown",
   "metadata": {
    "id": "NamLaJvgyatY"
   },
   "source": [
    "## EDA and data preparation code development\n",
    "\n",
    "### Northwestern Banking\n",
    "\n",
    "#### Loan prediction project\n",
    "##### Updated 10-23-2020 Strouse\n",
    "##### Updated 10-25-2020 Lescher"
   ]
  },
  {
   "cell_type": "code",
   "execution_count": 1,
   "metadata": {
    "id": "4L4Dyeh8yatZ"
   },
   "outputs": [],
   "source": [
    "# Initiate Libraries\n",
    "\n",
    "import matplotlib.pyplot as plt\n",
    "import numpy as np\n",
    "import pandas as pd\n",
    "import seaborn as sns\n",
    "import datetime\n",
    "import os\n",
    "import io\n"
   ]
  },
  {
   "cell_type": "code",
   "execution_count": 2,
   "metadata": {
    "colab": {
     "base_uri": "https://localhost:8080/",
     "height": 126,
     "resources": {
      "http://localhost:8080/nbextensions/google.colab/files.js": {
       "data": "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",
       "headers": [
        [
         "content-type",
         "application/javascript"
        ]
       ],
       "ok": true,
       "status": 200,
       "status_text": ""
      }
     }
    },
    "id": "FO_xKs5_z0Q3",
    "outputId": "6d99808f-84cc-4838-a085-917d06e276bd"
   },
   "outputs": [],
   "source": [
    "#collab code\n",
    "#from google.colab import files\n",
    "#uploaded = files.upload()\n",
    "#df = pd.read_csv(io.BytesIO(uploaded['smallerdata.csv']))"
   ]
  },
  {
   "cell_type": "code",
   "execution_count": 3,
   "metadata": {
    "colab": {
     "base_uri": "https://localhost:8080/",
     "height": 71
    },
    "id": "h0_tmq5kyatd",
    "outputId": "ff46f24c-b9d0-4897-9e56-a96933e4f0b6"
   },
   "outputs": [
    {
     "name": "stderr",
     "output_type": "stream",
     "text": [
      "C:\\Users\\clesc\\anaconda3\\lib\\site-packages\\IPython\\core\\interactiveshell.py:3071: DtypeWarning: Columns (7,20,36,60,119,130,131,132,135,136,137,140) have mixed types.Specify dtype option on import or set low_memory=False.\n",
      "  has_raised = await self.run_ast_nodes(code_ast.body, cell_name,\n"
     ]
    }
   ],
   "source": [
    "#desktop code\n",
    "datapath = os.path\n",
    "df = pd.read_csv(\"smallerdata.csv\",  sep=',')"
   ]
  },
  {
   "cell_type": "markdown",
   "metadata": {
    "id": "-Zue356fyatg"
   },
   "source": [
    "### Declare all Functions here"
   ]
  },
  {
   "cell_type": "code",
   "execution_count": 4,
   "metadata": {
    "id": "39IdnnAcyath"
   },
   "outputs": [],
   "source": [
    "#a function that receives the dataframe, data column & row you wish to alter a string into a date format\n",
    "def dateconvert(datestring):\n",
    "\n",
    "    #empty \n",
    "    if type(datestring) == float:\n",
    "        year = \"1900\"\n",
    "        month = \"Jan\"\n",
    "    #3-Jan for 01/01/2003\n",
    "    elif len(datestring)==5:\n",
    "        year = \"200\" + datestring[0:1]\n",
    "        month = datestring[2:5]\n",
    "    #19-Mar for 03/01/2019\n",
    "    elif datestring[0:2].isnumeric():\n",
    "        year = datestring[0:2]\n",
    "        month = datestring[3:6]\n",
    "    #Feb-2000 for 02/01/2000    \n",
    "    elif datestring[4:8].isnumeric() and len (datestring[4:8])==4:\n",
    "        month = datestring[0:3]\n",
    "        year = datestring[4:8]\n",
    "    #Feb-01 for 02/01/2019\n",
    "    elif datestring[4:8].isnumeric() and len (datestring[4:8])==2:\n",
    "        month = datestring[0:3]\n",
    "        year = datestring[4:6]\n",
    "    \n",
    "    #this is a manual process to convert 2 year dates to 4 since the automatic one doesn't work\n",
    "    if len(year)==2:\n",
    "        if int(year) < 21:\n",
    "            year=\"20\"+year\n",
    "        else:\n",
    "            year = \"19\"+year\n",
    "    \n",
    "    date_time_str = month +' 01 '+ year\n",
    "    #all dates have to be forced to a 4 year, otherwise we get like 2065 as dates\n",
    "    date_time_obj = datetime.datetime.strptime(date_time_str, '%b %d %Y')\n",
    "    \n",
    "    return date_time_obj"
   ]
  },
  {
   "cell_type": "markdown",
   "metadata": {
    "id": "qMjd7HZCyatj"
   },
   "source": [
    "###  Data Cleaning Code"
   ]
  },
  {
   "cell_type": "markdown",
   "metadata": {
    "id": "-Z5j6zmlyatk"
   },
   "source": [
    "#### id"
   ]
  },
  {
   "cell_type": "code",
   "execution_count": 5,
   "metadata": {
    "id": "5sttK-Iyyatk"
   },
   "outputs": [],
   "source": [
    "#removes those wierd summary rows as they all contain the word \"amount\" in the id column\n",
    "#converts ID to string to then search it, then changes it back to integer to ensure no issues\n",
    "df['id']=df['id'].astype(str)\n",
    "df = df[~df['id'].str.contains(\"amount\")]\n",
    "df['id']=df['id'].astype(np.int32)\n",
    "#resets the index in order so further coding can be easier\n",
    "df = df.reset_index(drop=True)"
   ]
  },
  {
   "cell_type": "markdown",
   "metadata": {
    "id": "FEoTOo4cyatn"
   },
   "source": [
    "#### Date related columns"
   ]
  },
  {
   "cell_type": "code",
   "execution_count": 6,
   "metadata": {
    "id": "b4XZCbQhyatn"
   },
   "outputs": [],
   "source": [
    "#add the column headers you need to this date converting list\n",
    "datecol_list = ['issue_d','earliest_cr_line','last_pymnt_d','last_credit_pull_d',\n",
    "                'hardship_start_date','hardship_end_date','payment_plan_start_date',\n",
    "                'debt_settlement_flag_date','settlement_date']\n",
    "\n",
    "#loops the date columns through the dateconvert function and creates new columns with a \"2\" at the end\n",
    "for c in range(0,len(datecol_list)):\n",
    "    df[datecol_list[c]+\"2\"] = df.apply(lambda x: dateconvert(x[datecol_list[c]]), axis =1)\n",
    "    df[datecol_list[c]+\"2\"] = pd.to_datetime(df[datecol_list[c]+\"2\"])"
   ]
  },
  {
   "cell_type": "markdown",
   "metadata": {
    "id": "vZCDZUvVyatq"
   },
   "source": [
    "#### int_rate"
   ]
  },
  {
   "cell_type": "code",
   "execution_count": 7,
   "metadata": {
    "id": "GrqBXmtlyatq"
   },
   "outputs": [],
   "source": [
    "# convert 'int_rate' to string\n",
    "df['int_rate']=df['int_rate'].astype(str)\n",
    "# strip off % sign and convert to float\n",
    "df['int_rate'] = df['int_rate'].str.rstrip('%').astype('float') / 100.0"
   ]
  },
  {
   "cell_type": "markdown",
   "metadata": {
    "id": "802akcTsyatt"
   },
   "source": [
    "#### revol_util"
   ]
  },
  {
   "cell_type": "code",
   "execution_count": 8,
   "metadata": {
    "id": "mMzPbmaWyatt"
   },
   "outputs": [],
   "source": [
    "# convert 'revol_util' to string\n",
    "df['revol_util']=df['revol_util'].astype(str)\n",
    "# strip off % sign and convert to float\n",
    "df['revol_util'] = df['revol_util'].str.rstrip('%').astype('float') / 100.0"
   ]
  },
  {
   "cell_type": "markdown",
   "metadata": {
    "id": "7YjOC7d-yatw"
   },
   "source": [
    "## Feature Generation & Transformations"
   ]
  },
  {
   "cell_type": "markdown",
   "metadata": {
    "id": "zCvIdU7Kyatw"
   },
   "source": [
    "#### len_credit"
   ]
  },
  {
   "cell_type": "code",
   "execution_count": 9,
   "metadata": {
    "id": "T2FF599pyatw"
   },
   "outputs": [],
   "source": [
    "#calculates the length of credit they've had in years\n",
    "df['len_credit'] = pd.to_numeric((df['issue_d2']-df['earliest_cr_line2']).dt.days)/365"
   ]
  },
  {
   "cell_type": "markdown",
   "metadata": {
    "id": "Xd9Neb3kyaty"
   },
   "source": [
    "#### max_fico_high"
   ]
  },
  {
   "cell_type": "code",
   "execution_count": 10,
   "metadata": {
    "id": "C5KbObHZyatz"
   },
   "outputs": [],
   "source": [
    "df['max_fico_high']= df[[\"fico_range_high\", \"sec_app_fico_range_high\"]].max(axis=1)"
   ]
  },
  {
   "cell_type": "markdown",
   "metadata": {
    "id": "zSYNHIxEyat1"
   },
   "source": [
    "#### max_fico_low"
   ]
  },
  {
   "cell_type": "code",
   "execution_count": 11,
   "metadata": {
    "id": "sMOAV3Uxyat1"
   },
   "outputs": [],
   "source": [
    "df['max_fico_low']= df[[\"fico_range_low\", \"sec_app_fico_range_low\"]].max(axis=1)"
   ]
  },
  {
   "cell_type": "markdown",
   "metadata": {
    "id": "BZQkiIEIyat4"
   },
   "source": [
    "#### delinq_amt_pct "
   ]
  },
  {
   "cell_type": "code",
   "execution_count": 12,
   "metadata": {
    "id": "HIGztWKhyat4"
   },
   "outputs": [],
   "source": [
    "df['delinq_amt_pct']=(df['delinq_amnt']/df['total_bal_ex_mort'])\n",
    "df.loc[df['delinq_amt_pct']> 1, 'delinq_amt_pct'] = 1"
   ]
  },
  {
   "cell_type": "markdown",
   "metadata": {
    "id": "2hIV6S8Zyat6"
   },
   "source": [
    "#### sats_pct "
   ]
  },
  {
   "cell_type": "code",
   "execution_count": 13,
   "metadata": {
    "id": "uG-QyEuGyat7"
   },
   "outputs": [],
   "source": [
    "df['sats_pct']=(df['num_sats']/df['open_acc'])"
   ]
  },
  {
   "cell_type": "markdown",
   "metadata": {
    "id": "KYDPyZuQyat9"
   },
   "source": [
    "#### emp_length2"
   ]
  },
  {
   "cell_type": "code",
   "execution_count": 14,
   "metadata": {
    "id": "WsFA7i4nyat9"
   },
   "outputs": [],
   "source": [
    "#converts employment lengt to a number (imputes 0 years for null)\n",
    "df['emp_length2'] = df['emp_length'].str[0:1]\n",
    "df.loc[df['emp_length']==\"< 1 year\", 'emp_length2'] = \"0\"\n",
    "df.loc[df['emp_length']==\"10+ years\", 'emp_length2'] = \">\"\n",
    "df.loc[df['emp_length2']==\">\", 'emp_length2'] = \"10\"\n",
    "df.loc[df['emp_length'].isnull(), 'emp_length2'] = \"0\"\n",
    "df['emp_length2']=df['emp_length2'].astype(int)"
   ]
  },
  {
   "cell_type": "markdown",
   "metadata": {
    "id": "PLHiEGxXyat_"
   },
   "source": [
    "#### initial_list_status (create dummy)"
   ]
  },
  {
   "cell_type": "code",
   "execution_count": 15,
   "metadata": {
    "id": "nTIvl71PyauA"
   },
   "outputs": [],
   "source": [
    "df.loc[df['initial_list_status']==\"w\", 'initial_list_status2'] = 0\n",
    "df.loc[df['initial_list_status']==\"f\", 'initial_list_status2'] = 1"
   ]
  },
  {
   "cell_type": "markdown",
   "metadata": {
    "id": "TUNIRNNayauB"
   },
   "source": [
    "#### hardship_flag"
   ]
  },
  {
   "cell_type": "code",
   "execution_count": 16,
   "metadata": {
    "id": "Oqqy1SXOyauC"
   },
   "outputs": [],
   "source": [
    "df.loc[df['hardship_flag']==\"N\", 'hardship_flag2'] = 0\n",
    "df.loc[df['hardship_flag']==\"Y\", 'hardship_flag2'] = 1"
   ]
  },
  {
   "cell_type": "markdown",
   "metadata": {
    "id": "pAkuQS7ZyauD"
   },
   "source": [
    "#### home_ownership"
   ]
  },
  {
   "cell_type": "code",
   "execution_count": 17,
   "metadata": {
    "id": "bZLJcanWyauE"
   },
   "outputs": [],
   "source": [
    "df['home_ownership2'] = 0\n",
    "df.loc[df['home_ownership']==\"RENT\", 'home_ownership2'] = 1\n",
    "df.loc[df['home_ownership']==\"OWN\", 'home_ownership2'] = 2\n",
    "df.loc[df['home_ownership']==\"MORTGAGE\", 'home_ownership2'] = 2"
   ]
  },
  {
   "cell_type": "markdown",
   "metadata": {
    "id": "uOd80rPLyauF"
   },
   "source": [
    "#### desc"
   ]
  },
  {
   "cell_type": "code",
   "execution_count": 18,
   "metadata": {
    "id": "3CrmvbiByauG"
   },
   "outputs": [],
   "source": [
    "df['desc2'] = 1\n",
    "df.loc[df['desc'].isnull(), 'desc2'] = 0"
   ]
  },
  {
   "cell_type": "markdown",
   "metadata": {
    "id": "kO7GqXMYyauH"
   },
   "source": [
    "#### verification_status"
   ]
  },
  {
   "cell_type": "code",
   "execution_count": 19,
   "metadata": {
    "id": "uYK2QPjFyauI"
   },
   "outputs": [],
   "source": [
    "df.loc[df['verification_status']==\"Not Verified\", 'verification_status2'] = 0\n",
    "df.loc[df['verification_status']==\"Verified\", 'verification_status2'] = 1\n",
    "df.loc[df['verification_status']==\"Source Verified\", 'verification_status2'] = 1"
   ]
  },
  {
   "cell_type": "markdown",
   "metadata": {
    "id": "5pajV9oUyauJ"
   },
   "source": [
    "#### pymnt_plan"
   ]
  },
  {
   "cell_type": "code",
   "execution_count": 20,
   "metadata": {
    "id": "48YVL3biyauK"
   },
   "outputs": [],
   "source": [
    "df.loc[df['pymnt_plan']==\"n\", 'pymnt_plan2'] = 0\n",
    "df.loc[df['pymnt_plan']==\"y\", 'pymnt_plan2'] = 1"
   ]
  },
  {
   "cell_type": "markdown",
   "metadata": {
    "id": "D9Ytn4r06KV6"
   },
   "source": [
    "#### default_ind"
   ]
  },
  {
   "cell_type": "code",
   "execution_count": 21,
   "metadata": {
    "id": "KRhtniV0yauN"
   },
   "outputs": [],
   "source": [
    "#creates binary indicator for defaulted or not\n",
    "#just an error checker to ensure that all statuses are accounted for\n",
    "df['default_ind']=2\n",
    "#should be a lsit of all good status loans\n",
    "df.loc[(df['loan_status'] == 'Fully Paid'), 'default_ind'] = 0\n",
    "#should be a list of all defaulted loans\n",
    "df.loc[(df['loan_status'] == 'Charged Off'), 'default_ind'] = 1"
   ]
  },
  {
   "cell_type": "markdown",
   "metadata": {
    "id": "0wOGUOg3yauN"
   },
   "source": [
    "#### Variable transformations"
   ]
  },
  {
   "cell_type": "markdown",
   "metadata": {
    "id": "UraSE9BBs009"
   },
   "source": [
    "#### loan_amnt_cuberoot"
   ]
  },
  {
   "cell_type": "code",
   "execution_count": 22,
   "metadata": {
    "id": "_UNMCDnH6VW3"
   },
   "outputs": [],
   "source": [
    "#Loan Amnt Cube Root Transform\n",
    "df['loan_amnt_cuberoot']=np.power(np.sign(df['loan_amnt']) * np.abs(df['loan_amnt']),1/3)"
   ]
  },
  {
   "cell_type": "markdown",
   "metadata": {
    "id": "wKgNRJkhs00_"
   },
   "source": [
    "#### int_rate_log"
   ]
  },
  {
   "cell_type": "code",
   "execution_count": 23,
   "metadata": {
    "id": "pTvy4HPLCQF4"
   },
   "outputs": [],
   "source": [
    "#Int Rate Log Transform\n",
    "df['int_rate_log']=np.log10(df['int_rate'])"
   ]
  },
  {
   "cell_type": "markdown",
   "metadata": {
    "id": "qdmST34qs01B"
   },
   "source": [
    "#### len_credit_cuberoot"
   ]
  },
  {
   "cell_type": "code",
   "execution_count": 24,
   "metadata": {
    "id": "zeyiHg0dDhPA"
   },
   "outputs": [],
   "source": [
    "#Len Credit Cube Root Transform\n",
    "df['len_credit_cuberoot']=np.power(np.sign(df['len_credit']) * np.abs(df['len_credit']),1/3)"
   ]
  },
  {
   "cell_type": "markdown",
   "metadata": {
    "id": "5lUyNgAD0Snu"
   },
   "source": [
    "#### annual_inc Row drop and transform\n"
   ]
  },
  {
   "cell_type": "code",
   "execution_count": 25,
   "metadata": {
    "id": "Q2FKcnfx0isH"
   },
   "outputs": [],
   "source": [
    "#Row Drop for incomes above 400,000\n",
    "df = df[df['annual_inc'] <= 400000]"
   ]
  },
  {
   "cell_type": "code",
   "execution_count": 26,
   "metadata": {
    "id": "PDu2SKwD1CSf"
   },
   "outputs": [],
   "source": [
    "#Cube Transform\n",
    "df['annual_inc_cuberoot']=np.power(np.sign(df['annual_inc']) * np.abs(df['annual_inc']),1/3)\n"
   ]
  },
  {
   "cell_type": "markdown",
   "metadata": {
    "id": "Hz7SodnTyauR"
   },
   "source": [
    "#### convert blanks"
   ]
  },
  {
   "cell_type": "code",
   "execution_count": 27,
   "metadata": {
    "id": "7J4ZT6PoyauR"
   },
   "outputs": [],
   "source": [
    "#convert blanks to NA\n",
    "df['dti'].replace('', np.nan, inplace=True)\n",
    "df['revol_util'].replace('', np.nan, inplace=True)\n",
    "df['tot_coll_amt'].replace('', np.nan, inplace=True)\n",
    "df['delinq_amt_pct'].replace('', np.nan, inplace=True)\n",
    "df['pct_tl_nvr_dlq'].replace('', np.nan, inplace=True)\n",
    "df['pub_rec_bankruptcies'].replace('', np.nan, inplace=True)"
   ]
  },
  {
   "cell_type": "markdown",
   "metadata": {
    "id": "762iPxxvyauU"
   },
   "source": [
    "#### bad dates"
   ]
  },
  {
   "cell_type": "code",
   "execution_count": 28,
   "metadata": {
    "id": "ti7QlA_lyauU"
   },
   "outputs": [],
   "source": [
    "#removes rows with empty dates as they were all set to 01/01/1990\n",
    "df=df[(df['issue_d2']!=\"1900-01-01\") | (df['earliest_cr_line2']!=\"1900-01-01\")]"
   ]
  },
  {
   "cell_type": "markdown",
   "metadata": {
    "id": "_o-p4eQWyauW"
   },
   "source": [
    "## Modeling data set creation"
   ]
  },
  {
   "cell_type": "markdown",
   "metadata": {},
   "source": [
    "### binary model dataframe"
   ]
  },
  {
   "cell_type": "code",
   "execution_count": 29,
   "metadata": {
    "id": "hFXsG4omyauW"
   },
   "outputs": [],
   "source": [
    "#keep only columns we need\n",
    "modeldf = df[['id', 'default_ind', 'loan_amnt_cuberoot', 'term', 'int_rate_log', 'grade', \n",
    "              'emp_length2', 'home_ownership2', \n",
    "              'desc2', 'purpose', 'dti', 'delinq_2yrs', \n",
    "              'revol_util', 'initial_list_status2', 'application_type', \n",
    "              'tot_coll_amt', 'chargeoff_within_12_mths', 'pct_tl_nvr_dlq', 'pub_rec_bankruptcies', \n",
    "              'total_bal_ex_mort', 'delinq_amt_pct', \n",
    "              'sats_pct', 'max_fico_low','len_credit_cuberoot','annual_inc_cuberoot' ]]\n",
    "\n",
    "modeldf=modeldf.dropna()\n",
    "modeldf = modeldf.reset_index(drop=True)\n"
   ]
  },
  {
   "cell_type": "code",
   "execution_count": 30,
   "metadata": {
    "id": "YaXLcMHIyauZ"
   },
   "outputs": [],
   "source": [
    "#save files\n",
    "modeldf.to_csv('modelingdftrain.csv')  "
   ]
  },
  {
   "cell_type": "markdown",
   "metadata": {},
   "source": [
    "### value model dataframe"
   ]
  },
  {
   "cell_type": "code",
   "execution_count": 31,
   "metadata": {},
   "outputs": [],
   "source": [
    "#keep only columns we need\n",
    "modeldf = df[['id', 'default_ind', 'total_pymnt', 'loan_amnt_cuberoot', 'term', 'int_rate_log', 'grade', \n",
    "              'emp_length2', 'home_ownership2', \n",
    "              'desc2', 'purpose', 'dti', 'delinq_2yrs', \n",
    "              'revol_util', 'initial_list_status2', 'application_type', \n",
    "              'tot_coll_amt', 'chargeoff_within_12_mths', 'pct_tl_nvr_dlq', 'pub_rec_bankruptcies', \n",
    "              'total_bal_ex_mort', 'delinq_amt_pct', \n",
    "              'sats_pct', 'max_fico_low','len_credit_cuberoot','annual_inc_cuberoot' ]]\n",
    "\n",
    "modeldf = modeldf[modeldf['default_ind'] == 1]\n",
    "modeldf.drop(['default_ind'], axis=1)\n",
    "modeldf=modeldf.dropna()\n",
    "modeldf = modeldf.reset_index(drop=True)"
   ]
  },
  {
   "cell_type": "code",
   "execution_count": 32,
   "metadata": {},
   "outputs": [],
   "source": [
    "#save files\n",
    "modeldf.to_csv('modelingdfvalue.csv')  "
   ]
  }
 ],
 "metadata": {
  "colab": {
   "name": "Data Prep Master.ipynb",
   "provenance": []
  },
  "kernelspec": {
   "display_name": "Python 3",
   "language": "python",
   "name": "python3"
  },
  "language_info": {
   "codemirror_mode": {
    "name": "ipython",
    "version": 3
   },
   "file_extension": ".py",
   "mimetype": "text/x-python",
   "name": "python",
   "nbconvert_exporter": "python",
   "pygments_lexer": "ipython3",
   "version": "3.8.3"
  }
 },
 "nbformat": 4,
 "nbformat_minor": 1
}
