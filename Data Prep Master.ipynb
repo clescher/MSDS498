{
  "nbformat": 4,
  "nbformat_minor": 0,
  "metadata": {
    "kernelspec": {
      "display_name": "Python 3",
      "language": "python",
      "name": "python3"
    },
    "language_info": {
      "codemirror_mode": {
        "name": "ipython",
        "version": 3
      },
      "file_extension": ".py",
      "mimetype": "text/x-python",
      "name": "python",
      "nbconvert_exporter": "python",
      "pygments_lexer": "ipython3",
      "version": "3.8.3"
    },
    "colab": {
      "name": "Data Prep Master.ipynb",
      "provenance": []
    }
  },
  "cells": [
    {
      "cell_type": "markdown",
      "metadata": {
        "id": "45fgQufGjIkY"
      },
      "source": [
        "## EDA and data preparation code development\n",
        "\n",
        "### Northwestern Banking\n",
        "\n",
        "#### Loan prediction project\n",
        "##### Updated 10-13-2020 Strouse"
      ]
    },
    {
      "cell_type": "code",
      "metadata": {
        "id": "nJdDQo9ajIkZ"
      },
      "source": [
        "# Initiate Libraries\n",
        "\n",
        "import matplotlib.pyplot as plt\n",
        "import numpy as np\n",
        "import pandas as pd\n",
        "import seaborn as sns\n",
        "import datetime\n",
        "import os\n"
      ],
      "execution_count": null,
      "outputs": []
    },
    {
      "cell_type": "code",
      "metadata": {
        "id": "uvutOvM6jIkc",
        "outputId": "bc601254-b50a-4977-9046-429c32c9d293"
      },
      "source": [
        "# Import CSV\n",
        "datapath = os.path\n",
        "df = pd.read_csv(\"smallerdata.csv\",  sep=',')\n",
        "# df = pd.read_excel(\"smallerdata.csv\")"
      ],
      "execution_count": null,
      "outputs": [
        {
          "output_type": "stream",
          "text": [
            "C:\\Users\\clesc\\anaconda3\\lib\\site-packages\\IPython\\core\\interactiveshell.py:3071: DtypeWarning: Columns (7,20,36,50,60,119,130,131,132,135,136,137,140,145,146,147) have mixed types.Specify dtype option on import or set low_memory=False.\n",
            "  has_raised = await self.run_ast_nodes(code_ast.body, cell_name,\n"
          ],
          "name": "stderr"
        }
      ]
    },
    {
      "cell_type": "markdown",
      "metadata": {
        "id": "TpZ7MCmCjIkf"
      },
      "source": [
        "### Declare all Functions here"
      ]
    },
    {
      "cell_type": "code",
      "metadata": {
        "id": "OFickCArjIkg"
      },
      "source": [
        "#a function that receives the dataframe, data column & row you wish to alter a string into a date format\n",
        "def dateconvert(datestring):\n",
        "\n",
        "    #empty \n",
        "    if type(datestring) == float:\n",
        "        year = \"1900\"\n",
        "        month = \"Jan\"\n",
        "    #3-Jan for 01/01/2003\n",
        "    elif len(datestring)==5:\n",
        "        year = \"200\" + datestring[0:1]\n",
        "        month = datestring[2:5]\n",
        "    #19-Mar for 03/01/2019\n",
        "    elif datestring[0:2].isnumeric():\n",
        "        year = datestring[0:2]\n",
        "        month = datestring[3:6]\n",
        "    #Feb-2000 for 02/01/2000    \n",
        "    elif datestring[4:8].isnumeric() and len (datestring[4:8])==4:\n",
        "        month = datestring[0:3]\n",
        "        year = datestring[4:8]\n",
        "    #Feb-01 for 02/01/2019\n",
        "    elif datestring[4:8].isnumeric() and len (datestring[4:8])==2:\n",
        "        month = datestring[0:3]\n",
        "        year = datestring[4:6]\n",
        "    \n",
        "    #this is a manual process to convert 2 year dates to 4 since the automatic one doesn't work\n",
        "    if len(year)==2:\n",
        "        if int(year) < 21:\n",
        "            year=\"20\"+year\n",
        "        else:\n",
        "            year = \"19\"+year\n",
        "    \n",
        "    date_time_str = month +' 01 '+ year\n",
        "    #all dates have to be forced to a 4 year, otherwise we get like 2065 as dates\n",
        "    date_time_obj = datetime.datetime.strptime(date_time_str, '%b %d %Y')\n",
        "    \n",
        "    return date_time_obj"
      ],
      "execution_count": null,
      "outputs": []
    },
    {
      "cell_type": "markdown",
      "metadata": {
        "id": "yNmf8a_DjIkj"
      },
      "source": [
        "###  Data Cleaning Code"
      ]
    },
    {
      "cell_type": "markdown",
      "metadata": {
        "id": "I01G5ra4jIkj"
      },
      "source": [
        "#### id"
      ]
    },
    {
      "cell_type": "code",
      "metadata": {
        "id": "AJ3Ot8XgjIkk"
      },
      "source": [
        "#removes those wierd summary rows as they all contain the word \"amount\" in the id column\n",
        "#converts ID to string to then search it, then changes it back to integer to ensure no issues\n",
        "df['id']=df['id'].astype(str)\n",
        "df = df[~df['id'].str.contains(\"amount\")]\n",
        "df['id']=df['id'].astype(np.int32)\n",
        "#resets the index in order so further coding can be easier\n",
        "df = df.reset_index(drop=True)"
      ],
      "execution_count": null,
      "outputs": []
    },
    {
      "cell_type": "markdown",
      "metadata": {
        "id": "NtBeHXNBjIkm"
      },
      "source": [
        "#### Date related columns"
      ]
    },
    {
      "cell_type": "code",
      "metadata": {
        "id": "awlFn4FCjIkn"
      },
      "source": [
        "#add the column headers you need to this date converting list\n",
        "datecol_list = ['issue_d','earliest_cr_line','last_pymnt_d','last_credit_pull_d',\n",
        "                'hardship_start_date','hardship_end_date','payment_plan_start_date',\n",
        "                'debt_settlement_flag_date','settlement_date']\n",
        "\n",
        "#loops the date columns through the dateconvert function and creates new columns with a \"2\" at the end\n",
        "for c in range(0,len(datecol_list)):\n",
        "    df[datecol_list[c]+\"2\"] = df.apply(lambda x: dateconvert(x[datecol_list[c]]), axis =1)\n",
        "    df[datecol_list[c]+\"2\"] = pd.to_datetime(df[datecol_list[c]+\"2\"])"
      ],
      "execution_count": null,
      "outputs": []
    },
    {
      "cell_type": "markdown",
      "metadata": {
        "id": "x-Izkc9TjIkp"
      },
      "source": [
        "#### int_rate"
      ]
    },
    {
      "cell_type": "code",
      "metadata": {
        "id": "xMcOF2bGjIkq"
      },
      "source": [
        "# convert 'int_rate' to string\n",
        "df['int_rate']=df['int_rate'].astype(str)\n",
        "# strip off % sign and convert to float\n",
        "df['int_rate'] = df['int_rate'].str.rstrip('%').astype('float') / 100.0"
      ],
      "execution_count": null,
      "outputs": []
    },
    {
      "cell_type": "markdown",
      "metadata": {
        "id": "zSijaJiPjIks"
      },
      "source": [
        "## Feature Generation"
      ]
    },
    {
      "cell_type": "markdown",
      "metadata": {
        "id": "G_NOlp3NjIkt"
      },
      "source": [
        "#### len_credit"
      ]
    },
    {
      "cell_type": "code",
      "metadata": {
        "id": "smDMt8tUjIkt"
      },
      "source": [
        "#calculates the length of credit they've had in years\n",
        "df['len_credit'] = pd.to_numeric((df['issue_d2']-df['earliest_cr_line2']).dt.days)/365"
      ],
      "execution_count": null,
      "outputs": []
    },
    {
      "cell_type": "markdown",
      "metadata": {
        "id": "VC7K6me0jIkw"
      },
      "source": [
        "#### max_fico_high"
      ]
    },
    {
      "cell_type": "code",
      "metadata": {
        "id": "q9BL2Pk7jIkx"
      },
      "source": [
        "df['max_fico_high']= df[[\"fico_range_high\", \"sec_app_fico_range_high\"]].max(axis=1)"
      ],
      "execution_count": null,
      "outputs": []
    },
    {
      "cell_type": "markdown",
      "metadata": {
        "id": "NRO7D0UmjIkz"
      },
      "source": [
        "#### max_fico_low"
      ]
    },
    {
      "cell_type": "code",
      "metadata": {
        "id": "ZSK_DcjdjIkz"
      },
      "source": [
        "df['max_fico_low']= df[[\"fico_range_low\", \"sec_app_fico_range_low\"]].max(axis=1)"
      ],
      "execution_count": null,
      "outputs": []
    },
    {
      "cell_type": "markdown",
      "metadata": {
        "id": "sua4GvJ2jIk1"
      },
      "source": [
        "#### delinq_amt_pct "
      ]
    },
    {
      "cell_type": "code",
      "metadata": {
        "id": "uHb4AwBCjIk2"
      },
      "source": [
        "df['delinq_amt_pct']=(df['delinq_amnt']/df['out_prncp'])"
      ],
      "execution_count": null,
      "outputs": []
    },
    {
      "cell_type": "markdown",
      "metadata": {
        "id": "6aZH328MjIk4"
      },
      "source": [
        "#### sats_pct "
      ]
    },
    {
      "cell_type": "code",
      "metadata": {
        "id": "sGerOlQ3jIk4"
      },
      "source": [
        "df['sats_pct']=(df['num_sats']/df['open_acc'])"
      ],
      "execution_count": null,
      "outputs": []
    },
    {
      "cell_type": "markdown",
      "metadata": {
        "id": "7jg58ZrsjIk6"
      },
      "source": [
        "#### emp_length2"
      ]
    },
    {
      "cell_type": "code",
      "metadata": {
        "id": "WLzqLjTajIk7"
      },
      "source": [
        "#converts employment lengt to a number (imputes 0 years for null)\n",
        "df['emp_length2'] = df['emp_length'].str[0:1]\n",
        "df.loc[df['emp_length']==\"< 1 year\", 'emp_length2'] = \"0\"\n",
        "df.loc[df['emp_length']==\"10+ years\", 'emp_length2'] = \">\"\n",
        "df.loc[df['emp_length2']==\">\", 'emp_length2'] = \"10\"\n",
        "df.loc[df['emp_length'].isnull(), 'emp_length2'] = \"0\"\n",
        "df['emp_length2']=df['emp_length2'].astype(int)"
      ],
      "execution_count": null,
      "outputs": []
    },
    {
      "cell_type": "markdown",
      "metadata": {
        "id": "3aZWJ_vljIk9"
      },
      "source": [
        "#### initial_list_status (create dummy)"
      ]
    },
    {
      "cell_type": "code",
      "metadata": {
        "id": "LmsOiI9DjIk9"
      },
      "source": [
        "df.loc[df['initial_list_status']==\"w\", 'initial_list_status2'] = 0\n",
        "df.loc[df['initial_list_status']==\"f\", 'initial_list_status2'] = 1"
      ],
      "execution_count": null,
      "outputs": []
    },
    {
      "cell_type": "markdown",
      "metadata": {
        "id": "rz03VVx5jIlA"
      },
      "source": [
        "#### hardship_flag"
      ]
    },
    {
      "cell_type": "code",
      "metadata": {
        "id": "ATbNxeOMjIlA"
      },
      "source": [
        "df.loc[df['hardship_flag']==\"N\", 'hardship_flag2'] = 0\n",
        "df.loc[df['hardship_flag']==\"Y\", 'hardship_flag2'] = 1"
      ],
      "execution_count": null,
      "outputs": []
    },
    {
      "cell_type": "markdown",
      "metadata": {
        "id": "u7BfF9M5jIlC"
      },
      "source": [
        "#### home_ownership"
      ]
    },
    {
      "cell_type": "code",
      "metadata": {
        "id": "pTTFKfXAjIlC"
      },
      "source": [
        "df['home_ownership2'] = 0\n",
        "df.loc[df['home_ownership']==\"RENT\", 'home_ownership2'] = 1\n",
        "df.loc[df['home_ownership']==\"OWN\", 'home_ownership2'] = 2\n",
        "df.loc[df['home_ownership']==\"MORTGAGE\", 'home_ownership2'] = 2"
      ],
      "execution_count": null,
      "outputs": []
    },
    {
      "cell_type": "markdown",
      "metadata": {
        "id": "nzXZ40SejIlD"
      },
      "source": [
        "#### desc"
      ]
    },
    {
      "cell_type": "code",
      "metadata": {
        "id": "tY9J7G2YjIlE"
      },
      "source": [
        "df['desc2'] = 1\n",
        "df.loc[df['desc'].isnull(), 'desc2'] = 0"
      ],
      "execution_count": null,
      "outputs": []
    },
    {
      "cell_type": "markdown",
      "metadata": {
        "id": "vPwHgKbCjIlG"
      },
      "source": [
        "#### verification_status"
      ]
    },
    {
      "cell_type": "code",
      "metadata": {
        "id": "dmKqlsmFjIlG"
      },
      "source": [
        "df.loc[df['verification_status']==\"Not Verified\", 'verification_status2'] = 0\n",
        "df.loc[df['verification_status']==\"Verified\", 'verification_status2'] = 1\n",
        "df.loc[df['verification_status']==\"Source Verified\", 'verification_status2'] = 1"
      ],
      "execution_count": null,
      "outputs": []
    },
    {
      "cell_type": "markdown",
      "metadata": {
        "id": "rFjsfZkzjIlI"
      },
      "source": [
        "#### pymnt_plan"
      ]
    },
    {
      "cell_type": "code",
      "metadata": {
        "id": "rjI-K1GKjIlJ"
      },
      "source": [
        "df.loc[df['pymnt_plan']==\"n\", 'pymnt_plan2'] = 0\n",
        "df.loc[df['pymnt_plan']==\"y\", 'pymnt_plan2'] = 1"
      ],
      "execution_count": null,
      "outputs": []
    },
    {
      "cell_type": "markdown",
      "metadata": {
        "id": "jOH94GuyjIlK"
      },
      "source": [
        "#### default_ind"
      ]
    },
    {
      "cell_type": "code",
      "metadata": {
        "id": "c2kmC5d6jIlL"
      },
      "source": [
        "#creates binary indicator for defaulted or not\n",
        "#just an error checker to ensure that all statuses are accounted for\n",
        "df['default_ind']=2\n",
        "#should be a lsit of all good status loans\n",
        "df.loc[(df['loan_status'] == 'Fully Paid') | \n",
        "       (df['loan_status'] == 'Current') | \n",
        "        (df['loan_status'] == 'Does not meet the credit policy. Status:Fully Paid') |\n",
        "        (df['loan_status'] == 'In Grace Period') |\n",
        "        (df['loan_status'] == 'Late (16-30 days)') |\n",
        "        (df['loan_status'] == 'Late (31-120 days)'), 'default_ind'] = 0\n",
        "#should be a list of all defaulted loans\n",
        "df.loc[(df['loan_status'] == 'Charged Off') | \n",
        "       (df['loan_status'] == 'Default') | \n",
        "        (df['loan_status'] == 'Does not meet the credit policy. Status:Charged Off'), 'default_ind'] = 1"
      ],
      "execution_count": null,
      "outputs": []
    },
    {
      "cell_type": "code",
      "metadata": {
        "id": "U3Xz77rOjIlM"
      },
      "source": [
        ""
      ],
      "execution_count": null,
      "outputs": []
    },
    {
      "cell_type": "markdown",
      "metadata": {
        "id": "4wARkZZcjIlO"
      },
      "source": [
        "## Row/bad data deletion"
      ]
    },
    {
      "cell_type": "markdown",
      "metadata": {
        "id": "1Kt570FYjIlP"
      },
      "source": [
        "#### Bad dates"
      ]
    },
    {
      "cell_type": "code",
      "metadata": {
        "id": "j3Qa2RBzjIlP"
      },
      "source": [
        "#removes rows with empty dates as they were all set to 01/01/1990\n",
        "df=df[(df['issue_d2']!=\"1900-01-01\") | (df['earliest_cr_line2']!=\"1900-01-01\")]"
      ],
      "execution_count": null,
      "outputs": []
    },
    {
      "cell_type": "code",
      "metadata": {
        "id": "F595Nhx-jIlR"
      },
      "source": [
        ""
      ],
      "execution_count": null,
      "outputs": []
    },
    {
      "cell_type": "markdown",
      "metadata": {
        "id": "OWijhZ7hjIlT"
      },
      "source": [
        "## Modeling data set creation"
      ]
    },
    {
      "cell_type": "code",
      "metadata": {
        "id": "kzDVjVG5jIlT"
      },
      "source": [
        "#keep only columns we need\n",
        "modeldf = df[['id', 'default_ind', 'loan_amnt', 'term', 'int_rate', 'grade', \n",
        "              'emp_length2', 'home_ownership2', 'annual_inc', \n",
        "              'pymnt_plan2', 'desc2', 'purpose', 'dti', 'delinq_2yrs', \n",
        "              'revol_util', 'initial_list_status2', 'application_type', \n",
        "              'tot_coll_amt', 'chargeoff_within_12_mths', 'pct_tl_nvr_dlq', 'pub_rec_bankruptcies', \n",
        "              'total_bal_ex_mort', 'hardship_flag2', 'delinq_amt_pct', \n",
        "              'sats_pct', 'max_fico_low','len_credit' ]]"
      ],
      "execution_count": null,
      "outputs": []
    },
    {
      "cell_type": "code",
      "metadata": {
        "id": "JGFY2WlPjIlW"
      },
      "source": [
        "#split into training and testing \n",
        "#needs to actually be coded in\n",
        "modeldftrain=modeldf"
      ],
      "execution_count": null,
      "outputs": []
    },
    {
      "cell_type": "code",
      "metadata": {
        "id": "GWWzUrbUjIlX"
      },
      "source": [
        "#save files\n",
        "modeldftrain.to_csv('modelingdftrain.csv')  "
      ],
      "execution_count": null,
      "outputs": []
    }
  ]
}