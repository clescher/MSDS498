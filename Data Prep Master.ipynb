{
 "cells": [
  {
   "cell_type": "markdown",
   "metadata": {},
   "source": [
    "## EDA and data preparation code development\n",
    "\n",
    "### Northwestern Banking\n",
    "\n",
    "#### Loan prediction project"
   ]
  },
  {
   "cell_type": "code",
   "execution_count": 1,
   "metadata": {},
   "outputs": [],
   "source": [
    "# Initiate Libraries\n",
    "\n",
    "import matplotlib.pyplot as plt\n",
    "import numpy as np\n",
    "import pandas as pd\n",
    "import seaborn as sns\n",
    "import datetime\n",
    "\n",
    "import os\n"
   ]
  },
  {
   "cell_type": "code",
   "execution_count": 2,
   "metadata": {},
   "outputs": [
    {
     "name": "stderr",
     "output_type": "stream",
     "text": [
      "C:\\Users\\clesc\\anaconda3\\lib\\site-packages\\IPython\\core\\interactiveshell.py:3071: DtypeWarning: Columns (7,20,36,50,60,119,130,131,132,135,136,137,140,145,146,147) have mixed types.Specify dtype option on import or set low_memory=False.\n",
      "  has_raised = await self.run_ast_nodes(code_ast.body, cell_name,\n"
     ]
    }
   ],
   "source": [
    "# Import CSV\n",
    "datapath = os.path\n",
    "df = pd.read_csv(\"smallerdata.csv\",  sep=',')\n",
    "# df = pd.read_excel(\"smallerdata.csv\")"
   ]
  },
  {
   "cell_type": "markdown",
   "metadata": {},
   "source": [
    "### Declare all Functions here"
   ]
  },
  {
   "cell_type": "code",
   "execution_count": 3,
   "metadata": {},
   "outputs": [],
   "source": [
    "#a function that receives the dataframe, data column & row you wish to alter a string into a date format\n",
    "def dateconvert(datestring):\n",
    "\n",
    "    #empty \n",
    "    if type(datestring) == float:\n",
    "        year = \"1900\"\n",
    "        month = \"Jan\"\n",
    "    #3-Jan for 01/01/2003\n",
    "    elif len(datestring)==5:\n",
    "        year = \"200\" + datestring[0:1]\n",
    "        month = datestring[2:5]\n",
    "    #19-Mar for 03/01/2019\n",
    "    elif datestring[0:2].isnumeric():\n",
    "        year = datestring[0:2]\n",
    "        month = datestring[3:6]\n",
    "    #Feb-2000 for 02/01/2000    \n",
    "    elif datestring[4:8].isnumeric() and len (datestring[4:8])==4:\n",
    "        month = datestring[0:3]\n",
    "        year = datestring[4:8]\n",
    "    #Feb-01 for 02/01/2019\n",
    "    elif datestring[4:8].isnumeric() and len (datestring[4:8])==2:\n",
    "        month = datestring[0:3]\n",
    "        year = datestring[4:6]\n",
    "    \n",
    "    #this is a manual process to convert 2 year dates to 4 since the automatic one doesn't work\n",
    "    if len(year)==2:\n",
    "        if int(year) < 21:\n",
    "            year=\"20\"+year\n",
    "        else:\n",
    "            year = \"19\"+year\n",
    "    \n",
    "    date_time_str = month +' 01 '+ year\n",
    "    #all dates have to be forced to a 4 year, otherwise we get like 2065 as dates\n",
    "    date_time_obj = datetime.datetime.strptime(date_time_str, '%b %d %Y')\n",
    "    \n",
    "    return date_time_obj"
   ]
  },
  {
   "cell_type": "markdown",
   "metadata": {},
   "source": [
    "###  Data Cleaning Code"
   ]
  },
  {
   "cell_type": "markdown",
   "metadata": {},
   "source": [
    "#### id"
   ]
  },
  {
   "cell_type": "code",
   "execution_count": 4,
   "metadata": {},
   "outputs": [],
   "source": [
    "#removes those wierd summary rows as they all contain the word \"amount\" in the id column\n",
    "#converts ID to string to then search it, then changes it back to integer to ensure no issues\n",
    "df['id']=df['id'].astype(str)\n",
    "df = df[~df['id'].str.contains(\"amount\")]\n",
    "df['id']=df['id'].astype(np.int32)\n",
    "#resets the index in order so further coding can be easier\n",
    "df = df.reset_index(drop=True)"
   ]
  },
  {
   "cell_type": "markdown",
   "metadata": {},
   "source": [
    "#### Date related columns"
   ]
  },
  {
   "cell_type": "code",
   "execution_count": null,
   "metadata": {},
   "outputs": [],
   "source": [
    "#add the column headers you need to this date converting list\n",
    "datecol_list = ['issue_d','earliest_cr_line','last_pymnt_d','last_credit_pull_d',\n",
    "                'hardship_start_date','hardship_end_date','payment_plan_start_date',\n",
    "                'debt_settlement_flag_date','settlement_date']\n",
    "\n",
    "#loops the date columns through the dateconvert function and creates new columns with a \"2\" at the end\n",
    "for c in range(0,len(datecol_list)):\n",
    "    df[datecol_list[c]+\"2\"] = df.apply(lambda x: dateconvert(x[datecol_list[c]]), axis =1)\n",
    "    df[datecol_list[c]+\"2\"] = pd.to_datetime(df[datecol_list[c]+\"2\"])"
   ]
  },
  {
   "cell_type": "markdown",
   "metadata": {},
   "source": [
    "#### int_rate"
   ]
  },
  {
   "cell_type": "code",
   "execution_count": null,
   "metadata": {},
   "outputs": [],
   "source": [
    "# convert 'int_rate' to string\n",
    "df['int_rate']=df['int_rate'].astype(str)\n",
    "# strip off % sign and convert to float\n",
    "df['int_rate'] = df['int_rate'].str.rstrip('%').astype('float') / 100.0"
   ]
  },
  {
   "cell_type": "markdown",
   "metadata": {},
   "source": [
    "## Feature Generation"
   ]
  },
  {
   "cell_type": "markdown",
   "metadata": {},
   "source": [
    "#### len_credit"
   ]
  },
  {
   "cell_type": "code",
   "execution_count": null,
   "metadata": {},
   "outputs": [],
   "source": [
    "#calculates the length of credit they've had in years\n",
    "df['len_credit'] = pd.to_numeric((df['issue_d2']-df['earliest_cr_line2']).dt.days)/365"
   ]
  },
  {
   "cell_type": "code",
   "execution_count": null,
   "metadata": {},
   "outputs": [],
   "source": [
    "#### fico_avg"
   ]
  },
  {
   "cell_type": "code",
   "execution_count": null,
   "metadata": {},
   "outputs": [],
   "source": [
    "#calculates their average FICO at loan originiation\n",
    "df['fico_avg']=(df['fico_range_low']+df['fico_range_high'])/2"
   ]
  },
  {
   "cell_type": "markdown",
   "metadata": {},
   "source": [
    "#### default_ind"
   ]
  },
  {
   "cell_type": "code",
   "execution_count": null,
   "metadata": {},
   "outputs": [],
   "source": [
    "#creates binary indicator for defaulted or not\n",
    "#just an error checker to ensure that all statuses are accounted for\n",
    "df['default_ind']=2\n",
    "#should be a lsit of all good status loans\n",
    "df.loc[(df['loan_status'] == 'Fully Paid') | (df['loan_status'] == 'Current'), 'default_ind'] = 0\n",
    "#should be a list of all defaulted loans\n",
    "df.loc[(df['loan_status'] == 'Charged Off') | (df['loan_status'] == 'Default'), 'default_ind'] = 1"
   ]
  },
  {
   "cell_type": "code",
   "execution_count": null,
   "metadata": {},
   "outputs": [],
   "source": []
  },
  {
   "cell_type": "markdown",
   "metadata": {},
   "source": [
    "## Row/bad data deletion"
   ]
  },
  {
   "cell_type": "markdown",
   "metadata": {},
   "source": [
    "#### Bad dates"
   ]
  },
  {
   "cell_type": "code",
   "execution_count": null,
   "metadata": {},
   "outputs": [],
   "source": [
    "#removes rows with empty dates as they were all set to 01/01/1990\n",
    "df=df[(df['issue_d2']!=\"1900-01-01\") | (df['earliest_cr_line2']!=\"1900-01-01\")]"
   ]
  },
  {
   "cell_type": "code",
   "execution_count": null,
   "metadata": {},
   "outputs": [],
   "source": []
  },
  {
   "cell_type": "markdown",
   "metadata": {},
   "source": [
    "## Modeling data set creation"
   ]
  },
  {
   "cell_type": "code",
   "execution_count": null,
   "metadata": {},
   "outputs": [],
   "source": [
    "#keep only columns we need\n",
    "modeldf = df[['default_ind','loan_amnt', 'term', 'int_rate', 'grade', \n",
    "              'len_credit', 'fico_avg','id']]"
   ]
  },
  {
   "cell_type": "code",
   "execution_count": null,
   "metadata": {},
   "outputs": [],
   "source": [
    "#split into training and testing \n",
    "#needs to actually be coded in\n",
    "modeldftrain=modeldf"
   ]
  },
  {
   "cell_type": "code",
   "execution_count": null,
   "metadata": {},
   "outputs": [],
   "source": [
    "#save files\n",
    "modeldftrain.to_csv('modelingdftrain.csv')  "
   ]
  }
 ],
 "metadata": {
  "kernelspec": {
   "display_name": "Python 3",
   "language": "python",
   "name": "python3"
  },
  "language_info": {
   "codemirror_mode": {
    "name": "ipython",
    "version": 3
   },
   "file_extension": ".py",
   "mimetype": "text/x-python",
   "name": "python",
   "nbconvert_exporter": "python",
   "pygments_lexer": "ipython3",
   "version": "3.8.3"
  }
 },
 "nbformat": 4,
 "nbformat_minor": 2
}
